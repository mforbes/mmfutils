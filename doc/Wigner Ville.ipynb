{
 "cells": [
  {
   "cell_type": "code",
   "execution_count": 1,
   "metadata": {
    "collapsed": false,
    "hide_input": true,
    "hide_output": true,
    "init_cell": true,
    "run_control": {
     "marked": true
    }
   },
   "outputs": [
    {
     "data": {
      "text/html": [
       "<style>@import url('http://fonts.googleapis.com/css?family=Lato:700');\n",
       "@import url('http://fonts.googleapis.com/css?family=Ubuntu+Mono');\n",
       "@import url('http://fonts.googleapis.com/css?family=Inconsolata');\n",
       "\n",
       "// http://typecast.com/images/uploads/modernscale.css\n",
       "\n",
       "// html {font-size: 32pt;}\n",
       "\n",
       "body, caption, th, td, input, textarea, select, option, legend, fieldset, h1, h2, h3, h4, h5, h6, .CodeMirror {\n",
       "  font-size-adjust: 0.5;\n",
       "}\n",
       "\n",
       "// This is the containing div, so we set the base size here.\n",
       "// All other elements will resize accordingly (not menus)\n",
       "// Unfortunately, it does not work...\n",
       "div #notebook_panel {\n",
       "  font-size: 1em;\n",
       "  /* 1em equivalent to 16px */\n",
       "}\n",
       "\n",
       "#notebook {\n",
       "  font-size: 1.2em;\n",
       "  line-height: 1.25;\n",
       "  /* equivalent to 20px */\n",
       "}\n",
       "\n",
       "@media (min-width: 43.75em) {\n",
       "  #notebook {\n",
       "    font-size: 1.2em;\n",
       "    line-height: 1.375;\n",
       "    /* equivalent to 22px */\n",
       "  }\n",
       "}\n",
       "\n",
       "h1 {\n",
       "  font-size: 2em;\n",
       "  /* 2x body copy size = 32px */\n",
       "  line-height: 1.25;\n",
       "  /* 45px / 36px */\n",
       "}\n",
       "\n",
       "@media (min-width: 43.75em) {\n",
       "  h1 {\n",
       "    font-size: 2.5em;\n",
       "    /* 2.5x body copy size = 40px */\n",
       "    line-height: 1.125;\n",
       "  }\n",
       "}\n",
       "\n",
       "@media (min-width: 56.25em) {\n",
       "  h1 {\n",
       "    font-size: 3em;\n",
       "    /* 3x body copy size = 48px */\n",
       "    line-height: 1.05;\n",
       "    /* keep to a multiple of the 20px line height and something more appropriate for display headings */\n",
       "  }\n",
       "}\n",
       "\n",
       "h2 {\n",
       "  font-size: 1.625em;\n",
       "  /* 1.625x body copy size = 26px */\n",
       "  line-height: 1.15384615;\n",
       "  /* 30px / 26px */\n",
       "}\n",
       "\n",
       "@media (min-width: 43.75em) {\n",
       "  h2 {\n",
       "    font-size: 2em;\n",
       "    /* 2x body copy size = 32px */\n",
       "    line-height: 1.25;\n",
       "  }\n",
       "}\n",
       "\n",
       "@media (min-width: 56.25em) {\n",
       "  h2 {\n",
       "    font-size: 2.25em;\n",
       "    /* 2.25x body copy size = 36px */\n",
       "    line-height: 1.25;\n",
       "  }\n",
       "}\n",
       "\n",
       "h3 {\n",
       "  font-size: 1.375em;\n",
       "  /* 1.375x body copy size = 22px */\n",
       "  line-height: 1.13636364;\n",
       "  /* 25px / 22px */\n",
       "}\n",
       "\n",
       "@media (min-width: 43.75em) {\n",
       "  h3 {\n",
       "    font-size: 1.5em;\n",
       "    /* 1.5x body copy size = 24px */\n",
       "    line-height: 1.25;\n",
       "  }\n",
       "}\n",
       "\n",
       "@media (min-width: 56.25em) {\n",
       "  h3 {\n",
       "    font-size: 1.75em;\n",
       "    /* 1.75x body copy size = 28px */\n",
       "    line-height: 1.25;\n",
       "  }\n",
       "}\n",
       "\n",
       "h4 {\n",
       "  font-size: 1.125em;\n",
       "  /* 1.125x body copy size = 18px */\n",
       "  line-height: 1.11111111;\n",
       "}\n",
       "\n",
       "@media (min-width: 43.75em) {\n",
       "  h4 {\n",
       "    line-height: 1.22222222;\n",
       "    /* (22px / 18px */\n",
       "  }\n",
       "}\n",
       "\n",
       "\n",
       "/* These need some adjustments */\n",
       "blockquote {\n",
       "  font-size: 1em;\n",
       "  /* 20px / 16px */\n",
       "  line-height: 1.25;\n",
       "  /* 25px / 20px */\n",
       "}\n",
       "\n",
       "@media (min-width: 43.75em) {\n",
       "  blockquote {\n",
       "    font-size: 1em;\n",
       "    /* 24px / 16px = */\n",
       "    line-height: 1.45833333;\n",
       "    /* 35px / 24px */\n",
       "  }\n",
       "}\n",
       "\n",
       "#notebook-container {\n",
       "    background-color: #fcfaf2;\n",
       "}\n",
       "\n",
       "div.text_cell_render {\n",
       "    font-family: \"Palatino Linotype\", \"Palatino\", \"Book Antiqua\",\n",
       "                 \"URW Palladio L\", serif;\n",
       "}\n",
       "\n",
       ".CodeMirror pre {\n",
       "    font-family: Inconsolata, Consolas, monocco, monospace;\n",
       "}\n",
       "\n",
       "/* This was an attempt to make it more obvious that long lines */\n",
       "/* extended to the right, but causes a problem with the left bar of trhe */\n",
       "/* input areas overflowing down and obscuring the output */\n",
       "\n",
       "/* .CodeMirror { */\n",
       "/*     overflow: visible; */\n",
       "/* } */\n",
       "\n",
       "div.input_area {\n",
       "    border-color: rgba(0,0,0,0.10);\n",
       "    background: rbga(1,0,0,0.5);\n",
       "    max-width: 48.8em; /* 80 characters instead of 100%, */\n",
       "}\n",
       "\n",
       "div.text_cell_render p {\n",
       "    max-width: 45em; /* instead of 100%, */\n",
       "}\n",
       "\n",
       "h1, h2, h3, h4 {\n",
       "    font-family: Lato, Verdana, sans-serif;\n",
       "}\n",
       "\n",
       ".rendered_html ol {\n",
       "    list-style:decimal;\n",
       "    margin: 1em 2em;\n",
       "}\n",
       "\n",
       "/* My overrrides */\n",
       "div.output_subarea {\n",
       "    background: rgba(0,0,0,0.02);\n",
       "}\n",
       "\n",
       ".rendered_html pre,\n",
       ".rendered_html code {a\n",
       "    line-height: 105%;\n",
       "    font-family: Inconsolata, Consolas, monocco, monospace;\n",
       "    background-color: #fcfaf2;\n",
       "}\n",
       "\n",
       "figure {\n",
       "    display: inline-block;\n",
       "    width: 100%;\n",
       "    max-width: 45em;\n",
       "}\n",
       "\n",
       "figure img {\n",
       "    align: center;\n",
       "}\n",
       "\n",
       "figure figcaption {\n",
       "    text-align: center;\n",
       "}\n",
       "\n",
       ".grade {\n",
       "   background-color: #66FFCC;\n",
       "}\n",
       "</style>"
      ],
      "text/plain": [
       "<IPython.core.display.HTML object>"
      ]
     },
     "metadata": {},
     "output_type": "display_data"
    },
    {
     "data": {
      "application/javascript": [
       "// MathJaX customization, custom commands etc.\n",
       "console.log('Updating MathJax configuration');\n",
       "MathJax.Hub.Config({\n",
       "  \"HTML-CSS\": {\n",
       "      //availableFonts: [\"Neo-Euler\"], preferredFont: \"Neo-Euler\",\n",
       "      //webFont: \"Neo-Euler\",\n",
       "      //scale: 85, // Euler is a bit big.\n",
       "      mtextFontInherit: true,\n",
       "      matchFontHeight: true,\n",
       "      scale: 90, // STIX is a bit big.\n",
       "\n",
       "  },\n",
       "  // This is not working for some reason.\n",
       "  \"TeX\": {\n",
       "    Macros: {\n",
       "        d: [\"\\\\mathrm{d}\"],\n",
       "        I: [\"\\\\mathrm{i}\"],\n",
       "        vect: [\"\\\\vec{#1}\", 1],\n",
       "        uvect: [\"\\\\hat{#1}\", 1],\n",
       "        abs: [\"\\\\lvert#1\\\\rvert\", 1],\n",
       "        Abs: [\"\\\\left\\\\lvert#1\\\\right\\\\rvert\", 1],\n",
       "        norm: [\"\\\\lVert#1\\\\rVert\", 1],\n",
       "        Norm: [\"\\\\left\\\\lVert#1\\\\right\\\\rVert\", 1],\n",
       "        ket: [\"|#1\\\\rangle\", 1],\n",
       "        bra: [\"\\\\langle#1|\", 1],\n",
       "        Ket: [\"\\\\left|#1\\\\right\\\\rangle\", 1],\n",
       "        Bra: [\"\\\\left\\\\langle#1\\\\right|\", 1],\n",
       "        braket: [\"\\\\langle#1\\\\rangle\", 1],\n",
       "        op: [\"\\\\mathbf{#1}\", 1],\n",
       "        mat: [\"\\\\mathbf{#1}\", 1],\n",
       "        pdiff: [\"\\\\frac{\\\\partial^{#1} #2}{\\\\partial {#3}^{#1}}\", 3, \"\"],\n",
       "        diff: [\"\\\\frac{\\\\d^{#1} #2}{\\\\d {#3}^{#1}}\", 3, \"\"],\n",
       "        ddiff: [\"\\\\frac{\\\\delta^{#1} #2}{\\\\delta {#3}^{#1}}\", 3, \"\"],\n",
       "        Tr: \"\\\\mathop{\\\\mathrm{Tr}}\\\\nolimits\",\n",
       "        erf: \"\\\\mathop{\\\\mathrm{erf}}\\\\nolimits\",\n",
       "        order: \"\\\\mathop{\\\\mathcal{O}}\\\\nolimits\",\n",
       "        diag: \"\\\\mathop{\\\\mathrm{diag}}\\\\nolimits\",\n",
       "        floor: [\"\\\\left\\\\lfloor#1\\\\right\\\\rfloor\", 1],\n",
       "        ceil: [\"\\\\left\\\\lceil#1\\\\right\\\\rceil\", 1],\n",
       "\n",
       "        mylabel: [\"\\\\label{#1}\\\\tag{#1}\", 1],\n",
       "        degree: [\"^{\\\\circ}\"],\n",
       "    },\n",
       "  }\n",
       "});\n",
       "\n",
       "// Jupyter.notebook.config.update({\"load_extensions\":{\"calico-document-tools\":true}});\n",
       "// Jupyter.notebook.config.update({\"load_extensions\":{\"calico-cell-tools\":true}});\n",
       "// Jupyter.notebook.config.update({\"load_extensions\":{\"calico-spell-check\":true}});\n"
      ],
      "text/plain": [
       "<IPython.core.display.Javascript object>"
      ]
     },
     "metadata": {},
     "output_type": "display_data"
    },
    {
     "data": {
      "text/html": [
       "<script id=\"MathJax-Element-48\" type=\"math/tex\">\n",
       "\\newcommand{\\vect}[1]{\\mathbf{#1}}\n",
       "\\newcommand{\\uvect}[1]{\\hat{#1}}\n",
       "\\newcommand{\\abs}[1]{\\lvert#1\\rvert}\n",
       "\\newcommand{\\norm}[1]{\\lVert#1\\rVert}\n",
       "\\newcommand{\\I}{\\mathrm{i}}\n",
       "\\newcommand{\\ket}[1]{\\left|#1\\right\\rangle}\n",
       "\\newcommand{\\bra}[1]{\\left\\langle#1\\right|}\n",
       "\\newcommand{\\braket}[1]{\\langle#1\\rangle}\n",
       "\\newcommand{\\op}[1]{\\mathbf{#1}}\n",
       "\\newcommand{\\mat}[1]{\\mathbf{#1}}\n",
       "\\newcommand{\\d}{\\mathrm{d}}\n",
       "\\newcommand{\\pdiff}[3][]{\\frac{\\partial^{#1} #2}{\\partial {#3}^{#1}}}\n",
       "\\newcommand{\\diff}[3][]{\\frac{\\d^{#1} #2}{\\d {#3}^{#1}}}\n",
       "\\newcommand{\\ddiff}[3][]{\\frac{\\delta^{#1} #2}{\\delta {#3}^{#1}}}\n",
       "\\DeclareMathOperator{\\erf}{erf}\n",
       "\\DeclareMathOperator{\\Tr}{Tr}\n",
       "\\DeclareMathOperator{\\order}{O}\n",
       "\\DeclareMathOperator{\\diag}{diag}\n",
       "\\DeclareMathOperator{\\sgn}{sgn}\n",
       "</script>\n",
       "<i>\n",
       "<p>This cell contains some definitions for equations and some CSS for styling the notebook.  If things look a bit strange, please try the following:\n",
       "\n",
       "<ul>\n",
       "  <li>Choose \"Trust Notebook\" from the \"File\" menu.</li>\n",
       "  <li>Re-execute this cell.</li>\n",
       "  <li>Reload the notebook.</li>\n",
       "</ul>\n",
       "</p>\n",
       "</i>\n"
      ],
      "text/plain": [
       "<IPython.core.display.HTML object>"
      ]
     },
     "metadata": {},
     "output_type": "display_data"
    }
   ],
   "source": [
    "import mmf_setup;res = mmf_setup.nbinit()"
   ]
  },
  {
   "cell_type": "markdown",
   "metadata": {},
   "source": [
    "# Wigner-Ville Distribution"
   ]
  },
  {
   "cell_type": "markdown",
   "metadata": {},
   "source": [
    "The Wigner-Ville quasiprobability distribution is a form of frequency analysis:\n",
    "\n",
    "\\begin{align}\n",
    "  W(t, \\omega) &= \\int_{-\\infty}^{\\infty} \n",
    "    f(t+\\tfrac{\\tau}{2}) f^*(t-\\tfrac{\\tau}{2}) e^{-\\I t \\omega}\\d{\\tau}\n",
    "    = 2\\int_{-\\infty}^{\\infty} \n",
    "    f(t+\\tau) f^*(t-\\tau) e^{-2\\I t \\omega}\\d{\\tau}.\n",
    "\\end{align}\n",
    "\n",
    "For quantum mechanics, one can write this as follows (Note: we use the wavevector $k = p/\\hbar$ here to avoid extra factors of $\\hbar$ that are not used in the code.)\n",
    "\n",
    "\\begin{align}\n",
    "  P(x, k) &= 2\\int_{-\\infty}^{\\infty} \\psi(x+y)\\psi^*(x-y) e^{-2\\I ky}\\d{y} \n",
    "\\end{align}\n",
    "\n",
    "Note that Wigner-Ville quasiprobability distribution satisfies the following properies:\n",
    "\n",
    "* $P(x,k)$ is real:\n",
    "\n",
    "  $$\n",
    "    P(x, k) = P^*(x,k).\n",
    "  $$\n",
    "  \n",
    "* Let $\\op{R} = \\ket{\\psi}\\bra{\\psi}$ be the density operator:\n",
    "\n",
    "  $$\n",
    "    P(x, k) = \\int\\braket{k|x+y}\\braket{x+y|\\op{R}|x-y}\\braket{x-y|k}\\frac{\\d{y}}{\\pi}.\n",
    "  $$\n",
    "\n",
    "* Integrating over $x$ or $k$ gives the probability density in the complementary space:\n",
    "\n",
    "  $$\n",
    "    \\braket{x|\\op{R}|x} = \\int_{-\\infty}^{\\infty}P(x, k) \\frac{\\d{k}}{2\\pi} \n",
    "    = \\abs{\\psi(x)}^2\\\\\n",
    "    \\braket{k|\\op{R}|k} = \\int_{-\\infty}^{\\infty}P(x, k) \\;\\d{x}\n",
    "    = \\abs{\\psi(k)}^2\\\\\n",
    "    \\Tr\\op{R} = \\int_{-\\infty}^{\\infty}\\int_{-\\infty}^{\\infty}P(x, k)\\;\\d{x}\\frac{\\d{k}}{2\\pi}\n",
    "  $$\n",
    "\n",
    "\n",
    "Note: there are some slightly different normalization conventions:\n",
    "\n",
    "* [Wikipedia](https://en.wikipedia.org/wiki/Wigner_quasiprobability_distribution) uses the following because they do not include the factor of $2\\pi$ with $\\d{k}/(2\\pi)$:\n",
    "  \n",
    "  $$\n",
    "    P(x, k) = \\frac{1}{\\hbar\\pi} \\int_{-\\infty}^{\\infty} \n",
    "    \\psi^*(x+y)\\psi(x-y) e^{2\\I ky/\\hbar}\\d{y}.\n",
    "  $$"
   ]
  },
  {
   "cell_type": "markdown",
   "metadata": {
    "collapsed": true
   },
   "source": [
    "# Computation"
   ]
  },
  {
   "cell_type": "markdown",
   "metadata": {},
   "source": [
    "The discrete version of the Wigner-Ville ditribution (DWVD) is\n",
    "\n",
    "$$\n",
    "  P(x_n, k_l) = 2\\sum_{m=0}^{N-1}\\psi_{n+m}\\psi^*_{n-m}e^{-4\\pi\\I ml/N}.\n",
    "$$\n",
    "\n",
    "To compute this, we use the FFT noting the extra factor of $2$ in the frequency:\n",
    "\n",
    "$$\n",
    "  P(x_n, k_{l/2}) = \\texttt{FFT}(\\psi_{n+m}\\psi^*_{n-m}).\n",
    "$$\n",
    "\n",
    "where the FFT acts on $m$ and  satisfies:\n",
    "\n",
    "$$\n",
    "  \\texttt{FFT}(f) = \\sum_{n=0}^{N-1} f_n e^{-2\\pi \\I m n/N}, \\qquad\n",
    "  \\texttt{IFFT}(f) = \\frac{1}{N}\\sum_{n=0}^{N-1} f_n e^{2\\pi \\I m n/N}, \\qquad\n",
    "  \\tilde{f}(\\omega) = \\frac{T}{N}\\texttt{FFT}(f) \n",
    "  \\equiv \\int_{0}^{T} f(t) e^{-\\I \\omega t}\\d{t}.\n",
    "$$\n",
    "\n",
    "One problem with this simple form of DWVD is that it introduces aliasing artifacts.  For example:\n",
    "\n",
    "$$\n",
    "  P(x_n+L/2, k_{l/2}) = 2\\sum_m\\psi_{n+N/2+m}\\psi^*_{n+N/2-m}e^{-2\\pi\\I m l/N}\n",
    "  = 2\\sum_m\\psi_{n+m}\\psi^*_{n+N-m}e^{-2\\pi\\I (m-N/2)l/N}\n",
    "  = e^{\\pi\\I l}P(x_n, k_{l/2}).\n",
    "$$\n",
    "\n",
    "Thus, features at position $x$ will have an oscillating alias at position $x+L/2$.  This can be seen in the Gaussian example below.\n",
    "\n",
    "The only additional complication is that we must ensure that the sampled function $f(t+\\tau)$ is appropriately defined outside of it's original range.  We do this by wrapping the indices modulo the length of the array."
   ]
  },
  {
   "cell_type": "markdown",
   "metadata": {},
   "source": [
    "# 1D Examples"
   ]
  },
  {
   "cell_type": "code",
   "execution_count": null,
   "metadata": {
    "collapsed": false
   },
   "outputs": [],
   "source": [
    "%pylab inline --no-import-all\n",
    "from __future__ import division\n",
    "import numpy as np\n",
    "\n",
    "from mmfutils.plot import imcontourf\n",
    "from mmfutils.math import wigner\n",
    "\n",
    "N = 128\n",
    "L = 10.0\n",
    "dx = L/N\n",
    "x = np.arange(N)*dx - L/2\n",
    "k = 2*np.pi * np.fft.fftshift(np.fft.fftfreq(N, dx))"
   ]
  },
  {
   "cell_type": "markdown",
   "metadata": {},
   "source": [
    "$$\n",
    "  \\psi(x) = e^{\\I k_m x}, \\qquad\n",
    "  P(x, k_n) = 2L \\delta_{mn}, \\qquad\n",
    "  \\psi(x + L) = \\psi(L), \\qquad\n",
    "  k_n = \\frac{2\\pi n}{L}.\n",
    "$$"
   ]
  },
  {
   "cell_type": "code",
   "execution_count": null,
   "metadata": {
    "collapsed": false
   },
   "outputs": [],
   "source": [
    "m = 1\n",
    "w = 2*np.pi*m/L\n",
    "psi = np.exp(1j*w*x)\n",
    "ws, P = wigner.wigner_ville(psi, dt=dx, skip=1, pad=False)\n",
    "P_exact = np.zeros_like(P)\n",
    "P_exact[:, N//2 + m] = 2*L\n",
    "\n",
    "#assert np.allclose(P, P_exact)\n",
    "imcontourf(x, ws/2*np.pi, P, interpolation='none', diverging=True)\n",
    "plt.xlabel('$x$');plt.ylabel(r'$k/2\\pi$')\n",
    "plt.colorbar()"
   ]
  },
  {
   "cell_type": "code",
   "execution_count": null,
   "metadata": {
    "collapsed": false
   },
   "outputs": [],
   "source": [
    "m = 1\n",
    "w = 2*np.pi*m/L\n",
    "psi = np.exp(1j*w*x**2/2)\n",
    "ws, P = wigner.wigner_ville(psi, dt=dx, skip=1, pad=False)\n",
    "P_exact = np.zeros_like(P)\n",
    "P_exact[:, N//2 + m] = 2*L\n",
    "\n",
    "#assert np.allclose(P, P_exact)\n",
    "imcontourf(x, ws/2*np.pi, P, interpolation='none', diverging=True)\n",
    "plt.xlabel('$x$');plt.ylabel(r'$k/2\\pi$')\n",
    "plt.colorbar()"
   ]
  },
  {
   "cell_type": "code",
   "execution_count": null,
   "metadata": {
    "collapsed": false
   },
   "outputs": [],
   "source": [
    "m = 1\n",
    "w = 2*np.pi*m/L\n",
    "psi = np.exp(1j*w*x**2/2)\n",
    "ws, P = wigner.wigner_ville(psi, dt=dx, skip=1, pad=True)\n",
    "P_exact = np.zeros_like(P)\n",
    "P_exact[:, N//2 + m] = 2*L\n",
    "\n",
    "#assert np.allclose(P, P_exact)\n",
    "imcontourf(x, ws/2*np.pi, P, interpolation='none', diverging=True)\n",
    "plt.xlabel('$x$');plt.ylabel(r'$k/2\\pi$')\n",
    "plt.colorbar()"
   ]
  },
  {
   "cell_type": "code",
   "execution_count": null,
   "metadata": {
    "collapsed": false
   },
   "outputs": [],
   "source": [
    "i = np.array([2, 18])[None, :]\n",
    "j = np.arange(N)[:, None]\n",
    "i_ = (i+j) % N\n",
    "j_ = (i-j) % N\n",
    "plt.plot(psi[i_]*psi.conj()[j_])"
   ]
  },
  {
   "cell_type": "markdown",
   "metadata": {},
   "source": [
    "\\begin{align}\n",
    "  \\psi(x) &= e^{-(x/r_0)^2/2}, &\n",
    "  P(x, k) &= 2r_0\\sqrt{\\pi} e^{-(kr_0)^2 -(x/r_0)^2}\n",
    "\\end{align}"
   ]
  },
  {
   "cell_type": "code",
   "execution_count": null,
   "metadata": {
    "collapsed": false,
    "hide_input": false,
    "hide_output": false,
    "run_control": {
     "marked": false
    }
   },
   "outputs": [],
   "source": [
    "x0 = 2\n",
    "dx = L/N\n",
    "dk = 2*np.pi / L\n",
    "r0 = 1\n",
    "psi = np.exp(-((x-x0)/r0)**2/2)\n",
    "ws, P = wigner.wigner_ville(psi, skip=1, pad=False)\n",
    "P_exact = 2*np.sqrt(np.pi)*r0*np.exp(-(k[None, :]*r0)**2-((x[:, None]-x0)/r0)**2)\n",
    "imcontourf(x, ws/2*np.pi, P, interpolation='none', diverging=True)\n",
    "plt.ylim(-0.5,0.5)"
   ]
  },
  {
   "cell_type": "markdown",
   "metadata": {},
   "source": [
    "Here is the standard DWVD:\n",
    "\n",
    "$$\n",
    "  P(x_n, \\tfrac{k}{2}) = 2\\sum_{m=0}^{N} \\psi_{n+m}\\psi^*_{n-m}e^{-2\\I k x_m}\n",
    "$$"
   ]
  },
  {
   "cell_type": "code",
   "execution_count": null,
   "metadata": {
    "collapsed": false
   },
   "outputs": [],
   "source": [
    "from numpy.fft import fft, ifft\n",
    "n = np.arange(N)[:, None]\n",
    "m = np.arange(N)[None, :]\n",
    "i_ = (n + m) % N\n",
    "j_ = (n - m) % N\n",
    "Psi = psi[i_]*psi[j_].conj()\n",
    "P = 2*fft(Psi, axis=-1) * dx\n",
    "P = np.fft.fftshift(P, axes=-1)\n",
    "assert np.allclose(P.imag, 0)\n",
    "P = P.real\n",
    "k = np.fft.fftshift(np.pi * np.fft.fftfreq(N, dx))\n",
    "imcontourf(x, k/2*np.pi, P, interpolation='none', diverging=True)\n",
    "plt.ylim(-5,5);"
   ]
  },
  {
   "cell_type": "code",
   "execution_count": null,
   "metadata": {
    "collapsed": false
   },
   "outputs": [],
   "source": [
    "X = fft(np.hstack([psi, 0*psi]))\n",
    "\n",
    "k = np.arange(-N, N-1)[:, None]\n",
    "m = np.arange(2*N)[None, :]\n",
    "i_ = (k + m) % (2*N)\n",
    "j_ = (k - m) % (2*N)\n",
    "Psi = X[i_]*X[j_].conj()\n",
    "\n",
    "P = np.fft.fftshift(fft(Psi, axis=-1) * dx, axes=-1)\n",
    "assert np.allclose(P.imag, 0)\n",
    "plt.imshow(P.real)"
   ]
  },
  {
   "cell_type": "code",
   "execution_count": null,
   "metadata": {
    "collapsed": false
   },
   "outputs": [],
   "source": [
    "i = N//2\n",
    "plt.plot(x, P[:,i]*dx, '-')\n",
    "plt.plot(x, P_exact[:, i], '+')\n",
    "print P[i,i]*dx/P_exact[i, i]"
   ]
  },
  {
   "cell_type": "code",
   "execution_count": null,
   "metadata": {
    "collapsed": false
   },
   "outputs": [],
   "source": [
    "plt.plot(x, P.sum(axis=-1)*dk*dx/2/np.pi)\n",
    "plt.plot(x, abs(psi)**2)"
   ]
  }
 ],
 "metadata": {
  "celltoolbar": "Initialisation Cell",
  "kernelspec": {
   "display_name": "Python 2",
   "language": "python",
   "name": "python2"
  },
  "language_info": {
   "codemirror_mode": {
    "name": "ipython",
    "version": 2
   },
   "file_extension": ".py",
   "mimetype": "text/x-python",
   "name": "python",
   "nbconvert_exporter": "python",
   "pygments_lexer": "ipython2",
   "version": "2.7.11"
  }
 },
 "nbformat": 4,
 "nbformat_minor": 0
}
