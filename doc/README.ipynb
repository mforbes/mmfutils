{
 "cells": [
  {
   "cell_type": "markdown",
   "metadata": {},
   "source": [
    "# 1. MMF Utils"
   ]
  },
  {
   "cell_type": "markdown",
   "metadata": {},
   "source": [
    "Small set of utilities: containers and interfaces.\n",
    "\n",
    "This package provides some utilities that I tend to rely on during development.  Presently in includes some convenience containers and a patch for including [zope.interface](http://docs.zope.org/zope.interface/) documentation in a notebook.\n",
    "\n",
    "**Documentation:**\n",
    "   http://mmfutils.readthedocs.org\n",
    "\n",
    "**Source:**\n",
    "   https://bitbucket.org/mforbes/mmfutils\n",
    "   \n",
    "**Issues:**\n",
    "  https://bitbucket.org/mforbes/mmfutils/issues"
   ]
  },
  {
   "cell_type": "markdown",
   "metadata": {},
   "source": [
    "## 1.1 Installing"
   ]
  },
  {
   "cell_type": "markdown",
   "metadata": {},
   "source": [
    "This package can be installed from [from the bitbucket project](https://bitbucket.org/mforbes/mmfutils):\n",
    "\n",
    "```bash\n",
    "pip install hg+https://bitbucket.org/mforbes/mmfutils\n",
    "```"
   ]
  },
  {
   "cell_type": "markdown",
   "metadata": {},
   "source": [
    "# 2. Usage"
   ]
  },
  {
   "cell_type": "markdown",
   "metadata": {},
   "source": [
    "## 2.1 Containers"
   ]
  },
  {
   "cell_type": "markdown",
   "metadata": {},
   "source": [
    "### 2.1.1 Object"
   ]
  },
  {
   "cell_type": "markdown",
   "metadata": {},
   "source": [
    "The ``Object`` object provides a base class to satisfy the following use-case.\n",
    "\n",
    "**Serialization and Deferred Initialization:**  Consider a problem where a class is defined through a few parameters, but requires extensive initialization before it can be properly used.  An example is a numerical simulation where one passes the number of grid points $N$ and a length $L$, but the initialization must generate large grids for efficient use later on. These grids should not be pickled when the object is serialized: instead, they should be generated at the end of initialization.  By default, everything in ``__dict__`` will be pickled, leading to bloated pickles.  The solution here is to split initialization into two steps: ``__init__()`` should initialize everything that is picklable, then ``init()`` should do any further initialization, defining the grid points based on the values of the picklable attributes.  To do this, the semantics of the ``__init__()`` method are changed slightly here.  ``Object.__init__()`` registers all keys in ``__dict__`` as ``self.picklable_attributes``.  These and only these attributes will be pickled (through the provided ``__getstate__`` and ``__setstate__`` methods).  \n",
    "\n",
    "The intended use is for subclasses to set and defined all attributes that should be pickled in the ``__init__()`` method, then call ``Object.__init__(self)``.  Any additional initialization can be done after this call, or in the ``init()`` method (see below) and attributes defined after this point will be treated as temporary.  Note, however, that unpickling an object will not call ``__init__()`` so any additional initialization required should be included in the ``init()`` method.\n",
    "\n",
    "**Deferred initialization via the ``init()`` method:** The idea here is to defer any expensive initialization – especially that which creates large temporary data that should not be pickled – until later.  This method is automatically called at the end of ``Object.__init__()`` and after restoring a pickle.  A further use-case is to allow one to change many parameters, then reinitialize the object once with an explicit call to ``init()``."
   ]
  },
  {
   "cell_type": "markdown",
   "metadata": {},
   "source": [
    "#### 2.1.1.1 Object Example"
   ]
  },
  {
   "cell_type": "code",
   "execution_count": 1,
   "metadata": {
    "collapsed": false
   },
   "outputs": [
    {
     "name": "stdout",
     "output_type": "stream",
     "text": [
      "__init__() called\n",
      "init() called\n",
      "State(L=1.0, N=256)\n"
     ]
    }
   ],
   "source": [
    "ROOTDIR = !hg root\n",
    "ROOTDIR = ROOTDIR[0]\n",
    "import sys;sys.path.insert(0, ROOTDIR)\n",
    "\n",
    "import numpy as np\n",
    "\n",
    "from mmfutils.containers import Object\n",
    "\n",
    "class State(Object):\n",
    "    def __init__(self, N, L=1.0):\n",
    "        \"\"\"This method should set all of the picklable\n",
    "        parameters, in this case, N and L.\"\"\"\n",
    "        print(\"__init__() called\")\n",
    "        self.N = N\n",
    "        self.L = L\n",
    "        \n",
    "        # Now register these and call init()\n",
    "        Object.__init__(self)\n",
    "        \n",
    "    def init(self):\n",
    "        \"\"\"All additional initializations\"\"\"\n",
    "        print(\"init() called\")\n",
    "        dx = self.L / self.N\n",
    "        self.x = np.arange(self.N, dtype=float) * dx - self.L/2.0\n",
    "        self.k = 2*np.pi * np.fft.fftfreq(self.N, dx)\n",
    "\n",
    "        # Set highest momentum to zero if N is even to\n",
    "        # avoid rapid oscillations\n",
    "        if self.N % 2 == 0:\n",
    "            self.k[self.N/2.0] = 0.0\n",
    "            \n",
    "    def compute_derivative(self, f):\n",
    "        \"\"\"Return the derivative of f.\"\"\"        \n",
    "        return np.fft.ifft(self.k*1j*np.fft.fft(f)).real\n",
    "\n",
    "s = State(256)\n",
    "print s"
   ]
  },
  {
   "cell_type": "markdown",
   "metadata": {},
   "source": [
    "One feature is that a nice ``repr()`` of the object is produced.  Now let's do a calculation:"
   ]
  },
  {
   "cell_type": "code",
   "execution_count": 2,
   "metadata": {
    "collapsed": false
   },
   "outputs": [
    {
     "data": {
      "text/plain": [
       "True"
      ]
     },
     "execution_count": 2,
     "metadata": {},
     "output_type": "execute_result"
    }
   ],
   "source": [
    "f = np.exp(3*np.cos(2*np.pi*s.x/s.L)) / 15\n",
    "df = -2.*np.pi/5.*np.exp(3*np.cos(2*np.pi*s.x/s.L))*np.sin(2*np.pi*s.x/s.L)/s.L\n",
    "np.allclose(s.compute_derivative(f), df)"
   ]
  },
  {
   "cell_type": "markdown",
   "metadata": {},
   "source": [
    "Here we demonstrate pickling.  Note that the pickle is very small, and when unpickled, ``init()`` is called to re-establish ``s.x`` and ``s.k``."
   ]
  },
  {
   "cell_type": "code",
   "execution_count": 3,
   "metadata": {
    "collapsed": false
   },
   "outputs": [
    {
     "name": "stdout",
     "output_type": "stream",
     "text": [
      "115\n",
      "init() called\n"
     ]
    }
   ],
   "source": [
    "import pickle\n",
    "s_repr = pickle.dumps(s)\n",
    "print(len(s_repr))\n",
    "s1 = pickle.loads(s_repr)"
   ]
  },
  {
   "cell_type": "markdown",
   "metadata": {},
   "source": [
    "Another use case applies when ``init()`` is expensive.  If $x$ and $k$ were computed in ``__init__()``, then using properties to change both $N$ and $L$ would trigger two updates.  Here we do the updates, then call ``init()``.  Good practice is to call ``init()`` automatically before any serious calculation to ensure that the object is brought up to date before the computation."
   ]
  },
  {
   "cell_type": "code",
   "execution_count": 4,
   "metadata": {
    "collapsed": false
   },
   "outputs": [
    {
     "name": "stdout",
     "output_type": "stream",
     "text": [
      "init() called\n"
     ]
    }
   ],
   "source": [
    "s.N = 64\n",
    "s.L = 2.0\n",
    "s.init()"
   ]
  },
  {
   "cell_type": "markdown",
   "metadata": {},
   "source": [
    "Finally, we demonstrate that ``Object`` instances can be archived using the ``persist`` package:"
   ]
  },
  {
   "cell_type": "code",
   "execution_count": 5,
   "metadata": {
    "collapsed": false
   },
   "outputs": [
    {
     "name": "stdout",
     "output_type": "stream",
     "text": [
      "__init__() called\n",
      "init() called\n"
     ]
    },
    {
     "data": {
      "text/plain": [
       "State(L=2.0, N=64)"
      ]
     },
     "execution_count": 5,
     "metadata": {},
     "output_type": "execute_result"
    }
   ],
   "source": [
    "import persist.archive;reload(persist.archive)\n",
    "a = persist.archive.Archive(check_on_insert=True)\n",
    "a.insert(s=s)\n",
    "\n",
    "d = {}\n",
    "exec str(a) in d\n",
    "\n",
    "d['s']"
   ]
  },
  {
   "cell_type": "markdown",
   "metadata": {},
   "source": [
    "### 2.1.2 Container"
   ]
  },
  {
   "cell_type": "markdown",
   "metadata": {},
   "source": [
    "The ``Container`` object is a slight extension of ``Object`` that provides a simple container for storing data with attribute and iterative access with the following use cases:\n",
    "\n",
    "- Returning data from a function associating names with each data.  The resulting ``Container()`` will act like a tuple, but will support attribute access.  Note that the order will be lexicographic.  One could use a dictionary, but attribute access with tab completion is much nicer in an interactive session.  The ``containers.nametuple`` generator could also be used, but this is somewhat more complicated (though might be faster).  Also, named tuples are immutable - here we provide a mutable object that is picklable etc."
   ]
  },
  {
   "cell_type": "markdown",
   "metadata": {},
   "source": [
    "#### 2.1.2.1 Container Examples"
   ]
  },
  {
   "cell_type": "code",
   "execution_count": 6,
   "metadata": {
    "collapsed": false
   },
   "outputs": [
    {
     "name": "stdout",
     "output_type": "stream",
     "text": [
      "Container(a=1, b='Hi there', c=2)\n",
      "(1, 'Hi there', 2)\n"
     ]
    }
   ],
   "source": [
    "from mmfutils.containers import Container\n",
    "\n",
    "c = Container(a=1, c=2, b='Hi there')\n",
    "print c\n",
    "print tuple(c)"
   ]
  },
  {
   "cell_type": "code",
   "execution_count": 7,
   "metadata": {
    "collapsed": false
   },
   "outputs": [
    {
     "name": "stdout",
     "output_type": "stream",
     "text": [
      "Container(a=1, b='Ho there', c=2)\n"
     ]
    }
   ],
   "source": [
    "# Attributes are mutable\n",
    "c.b = 'Ho there'\n",
    "print c"
   ]
  },
  {
   "cell_type": "code",
   "execution_count": 8,
   "metadata": {
    "collapsed": false
   },
   "outputs": [
    {
     "name": "stdout",
     "output_type": "stream",
     "text": [
      "Container(a=1, b='Ho there', c=2)\n",
      "[[ 1.  1.  1. ...,  1.  1.  1.]\n",
      " [ 1.  1.  1. ...,  1.  1.  1.]\n",
      " [ 1.  1.  1. ...,  1.  1.  1.]\n",
      " ..., \n",
      " [ 1.  1.  1. ...,  1.  1.  1.]\n",
      " [ 1.  1.  1. ...,  1.  1.  1.]\n",
      " [ 1.  1.  1. ...,  1.  1.  1.]]\n"
     ]
    }
   ],
   "source": [
    "# Other attributes can be used for temporary storage but will not be pickled.\n",
    "import numpy as np\n",
    "\n",
    "c.large_temporary_array = np.ones((256,256))\n",
    "print c\n",
    "print c.large_temporary_array"
   ]
  },
  {
   "cell_type": "code",
   "execution_count": 9,
   "metadata": {
    "collapsed": false
   },
   "outputs": [
    {
     "name": "stdout",
     "output_type": "stream",
     "text": [
      "Container(a=1, b='Ho there', c=2)\n"
     ]
    },
    {
     "ename": "AttributeError",
     "evalue": "'Container' object has no attribute 'large_temporary_array'",
     "output_type": "error",
     "traceback": [
      "\u001b[0;31m---------------------------------------------------------------------------\u001b[0m",
      "\u001b[0;31mAttributeError\u001b[0m                            Traceback (most recent call last)",
      "\u001b[0;32m<ipython-input-9-cbfd03ed340e>\u001b[0m in \u001b[0;36m<module>\u001b[0;34m()\u001b[0m\n\u001b[1;32m      2\u001b[0m \u001b[0mc1\u001b[0m \u001b[0;34m=\u001b[0m \u001b[0mpickle\u001b[0m\u001b[0;34m.\u001b[0m\u001b[0mloads\u001b[0m\u001b[0;34m(\u001b[0m\u001b[0mpickle\u001b[0m\u001b[0;34m.\u001b[0m\u001b[0mdumps\u001b[0m\u001b[0;34m(\u001b[0m\u001b[0mc\u001b[0m\u001b[0;34m)\u001b[0m\u001b[0;34m)\u001b[0m\u001b[0;34m\u001b[0m\u001b[0m\n\u001b[1;32m      3\u001b[0m \u001b[0;32mprint\u001b[0m \u001b[0mc1\u001b[0m\u001b[0;34m\u001b[0m\u001b[0m\n\u001b[0;32m----> 4\u001b[0;31m \u001b[0mc1\u001b[0m\u001b[0;34m.\u001b[0m\u001b[0mlarge_temporary_array\u001b[0m\u001b[0;34m\u001b[0m\u001b[0m\n\u001b[0m",
      "\u001b[0;31mAttributeError\u001b[0m: 'Container' object has no attribute 'large_temporary_array'"
     ]
    }
   ],
   "source": [
    "import pickle\n",
    "c1 = pickle.loads(pickle.dumps(c))\n",
    "print c1\n",
    "c1.large_temporary_array"
   ]
  },
  {
   "cell_type": "markdown",
   "metadata": {},
   "source": [
    "## 2.2 Interfaces"
   ]
  },
  {
   "cell_type": "markdown",
   "metadata": {},
   "source": [
    "The interfaces module collects some useful [zope.interface](http://docs.zope.org/zope.interface/) tools for checking interface requirements.  Interfaces provide a convenient way of communicating to a programmer what needs to be done to used your code.  This can then be checked in tests."
   ]
  },
  {
   "cell_type": "code",
   "execution_count": 10,
   "metadata": {
    "collapsed": true
   },
   "outputs": [],
   "source": [
    "from mmfutils.interface import Interface, Attribute, verifyClass, verifyObject, implements\n",
    "\n",
    "class IAdder(Interface):\n",
    "    \"\"\"Interface for objects that support addition.\"\"\"\n",
    "\n",
    "    value = Attribute('value', \"Current value of object\")\n",
    "\n",
    "    # No self here since this is the \"user\" interface\n",
    "    def add(other):\n",
    "        \"\"\"Return self + other.\"\"\""
   ]
  },
  {
   "cell_type": "markdown",
   "metadata": {},
   "source": [
    "Here is a broken implementation. We muck up the arguments to ``add``:"
   ]
  },
  {
   "cell_type": "code",
   "execution_count": 11,
   "metadata": {
    "collapsed": false
   },
   "outputs": [
    {
     "name": "stdout",
     "output_type": "stream",
     "text": [
      "BrokenMethodImplementation: The implementation of add violates its contract\n",
      "        because implementation requires too many arguments.\n",
      "        \n"
     ]
    }
   ],
   "source": [
    "class AdderBroken(object):\n",
    "    implements(IAdder)\n",
    "    \n",
    "    def add(self, one, another):\n",
    "        # There should only be one argument!\n",
    "        return one + another\n",
    "\n",
    "try:\n",
    "    verifyClass(IAdder, AdderBroken)\n",
    "except Exception, e:\n",
    "    print(\"{0.__class__.__name__}: {0}\".format(e))\n",
    "    "
   ]
  },
  {
   "cell_type": "markdown",
   "metadata": {},
   "source": [
    "Now we get ``add`` right, but forget to define ``value``.  This is only caught when we have an object since the attribute is supposed to be defined in ``__init__()``:"
   ]
  },
  {
   "cell_type": "code",
   "execution_count": 12,
   "metadata": {
    "collapsed": false
   },
   "outputs": [
    {
     "name": "stdout",
     "output_type": "stream",
     "text": [
      "BrokenImplementation: An object has failed to implement interface <InterfaceClass __main__.IAdder>\n",
      "\n",
      "        The value attribute was not provided.\n",
      "        \n"
     ]
    }
   ],
   "source": [
    "class AdderBroken(object):\n",
    "    implements(IAdder)\n",
    "    \n",
    "    def add(self, other):\n",
    "        return one + other\n",
    "\n",
    "# The class validates...\n",
    "verifyClass(IAdder, AdderBroken)\n",
    "\n",
    "# ... but objects are missing the value Attribute\n",
    "try:\n",
    "    verifyObject(IAdder, AdderBroken())\n",
    "except Exception, e:\n",
    "    print(\"{0.__class__.__name__}: {0}\".format(e))    "
   ]
  },
  {
   "cell_type": "markdown",
   "metadata": {},
   "source": [
    "Finally, a working instance:"
   ]
  },
  {
   "cell_type": "code",
   "execution_count": 13,
   "metadata": {
    "collapsed": false
   },
   "outputs": [
    {
     "data": {
      "text/plain": [
       "True"
      ]
     },
     "execution_count": 13,
     "metadata": {},
     "output_type": "execute_result"
    }
   ],
   "source": [
    "class Adder(object):\n",
    "    implements(IAdder)\n",
    "    def __init__(self, value=0):\n",
    "        self.value = value\n",
    "    def add(self, other):\n",
    "        return one + other\n",
    "    \n",
    "verifyClass(IAdder, Adder) and verifyObject(IAdder, Adder())"
   ]
  },
  {
   "cell_type": "markdown",
   "metadata": {},
   "source": [
    "### 2.2.1 Interface Documentation"
   ]
  },
  {
   "cell_type": "markdown",
   "metadata": {},
   "source": [
    "We also monkeypatch ``zope.interface.documentation.asStructuredText()`` to provide a mechanism for documentating interfaces in a notebook.  This still requires a bit of work to convert the string to HTML for display using ``docutils``:"
   ]
  },
  {
   "cell_type": "code",
   "execution_count": 14,
   "metadata": {
    "collapsed": false
   },
   "outputs": [],
   "source": [
    "# Chunk of code to display interfaces.\n",
    "# See: http://code.activestate.com/recipes/\n",
    "#            193890-using-rest-restructuredtext-to-create-html-snippet/\n",
    "import IPython.display\n",
    "\n",
    "from docutils import core\n",
    "from docutils.writers.html4css1 import Writer, HTMLTranslator\n",
    "\n",
    "import zope.interface.document\n",
    "\n",
    "\n",
    "class NoHeaderHTMLTranslator(HTMLTranslator):\n",
    "    def __init__(self, document):\n",
    "        HTMLTranslator.__init__(self, document)\n",
    "        self.head_prefix = ['']*5\n",
    "        self.body_prefix = []\n",
    "        self.body_suffix = []\n",
    "        self.stylesheet = []\n",
    "\n",
    "\n",
    "_w = Writer()\n",
    "_w.translator_class = NoHeaderHTMLTranslator\n",
    "\n",
    "\n",
    "def reSTify(string):\n",
    "    return IPython.display.HTML(core.publish_string(string, writer=_w))\n",
    "\n",
    "\n",
    "def describe_interface(interface):\n",
    "    rst = zope.interface.document.asStructuredText(interface)\n",
    "    return IPython.display.display(reSTify(rst))"
   ]
  },
  {
   "cell_type": "markdown",
   "metadata": {},
   "source": [
    "Now we can show the interface in our documentation:"
   ]
  },
  {
   "cell_type": "code",
   "execution_count": 15,
   "metadata": {
    "collapsed": false
   },
   "outputs": [
    {
     "data": {
      "text/html": [
       "<!DOCTYPE html PUBLIC \"-//W3C//DTD XHTML 1.0 Transitional//EN\" \"http://www.w3.org/TR/xhtml1/DTD/xhtml1-transitional.dtd\">\n",
       "<html xmlns=\"http://www.w3.org/1999/xhtml\" xml:lang=\"en\" lang=\"en\">\n",
       "<head>\n",
       "<meta http-equiv=\"Content-Type\" content=\"text/html; charset=utf-8\" />\n",
       "<meta name=\"generator\" content=\"Docutils 0.12: http://docutils.sourceforge.net/\" />\n",
       "<title></title>\n",
       "\n",
       "<div class=\"document\">\n",
       "\n",
       "\n",
       "<p><tt class=\"docutils literal\">IAdder</tt></p>\n",
       "<blockquote>\n",
       "<p>Interface for objects that support addition.</p>\n",
       "<p>Attributes:</p>\n",
       "<blockquote>\n",
       "<tt class=\"docutils literal\">value</tt> -- Current value of object</blockquote>\n",
       "<p>Methods:</p>\n",
       "<blockquote>\n",
       "<tt class=\"docutils literal\">add(other)</tt> -- Return self + other.</blockquote>\n",
       "</blockquote>\n",
       "</div>\n"
      ],
      "text/plain": [
       "<IPython.core.display.HTML object>"
      ]
     },
     "metadata": {},
     "output_type": "display_data"
    }
   ],
   "source": [
    "describe_interface(IAdder)"
   ]
  },
  {
   "cell_type": "markdown",
   "metadata": {},
   "source": [
    "# 3. Developer Instructions"
   ]
  },
  {
   "cell_type": "markdown",
   "metadata": {},
   "source": [
    "If you are a developer of this package, there are a few things to be aware of.\n",
    "\n",
    "1. If you modify the notebooks in ``docs/notebooks`` then you may need to regenerate some of the ``.rst`` files and commit them so they appear on bitbucket.  This is done automatically by the ``pre-commit`` hook in ``.hgrc`` if you include this in your ``.hg/hgrc`` file with a line like:\n",
    "\n",
    "    ```\n",
    "    %include ../.hgrc\n",
    "    ```\n",
    "\n",
    "**Security Warning:** if you do this, be sure to inspect the ``.hgrc`` file carefully to make sure that no one inserts malicious code.\n",
    "\n",
    "This runs the following code:"
   ]
  },
  {
   "cell_type": "code",
   "execution_count": 16,
   "metadata": {
    "collapsed": false
   },
   "outputs": [
    {
     "name": "stdout",
     "output_type": "stream",
     "text": [
      "[NbConvertApp] Using existing profile dir: u'/Users/mforbes/.ipython/profile_default'\n",
      "[NbConvertApp] Converting notebook doc/README.ipynb to rst\n",
      "[NbConvertApp] Support files will be in README_files/\n",
      "[NbConvertApp] Loaded template rst.tpl\n",
      "[NbConvertApp] Writing 22027 bytes to README.rst\n"
     ]
    }
   ],
   "source": [
    "!cd $ROOTDIR; ipython nbconvert --to=rst --output=README.rst doc/README.ipynb"
   ]
  },
  {
   "cell_type": "markdown",
   "metadata": {},
   "source": [
    "We also run a comprehensive set of tests, and the pre-commit hook will fail if any of these do not pass, or if we don't have complete code coverage.  This uses [nosetests](https://nose.readthedocs.org/en/latest/) and [flake8](http://flake8.readthedocs.org).  To run individal tests do one of:\n",
    "\n",
    "```bash\n",
    "python setup.py nosetests\n",
    "python setup.py flake8\n",
    "python setup.py check\n",
    "python setup.py test   # This runs them all using a custom command defined in setup.py\n",
    "```\n",
    "\n",
    "Here is an example:"
   ]
  },
  {
   "cell_type": "code",
   "execution_count": 17,
   "metadata": {
    "collapsed": false
   },
   "outputs": [
    {
     "name": "stdout",
     "output_type": "stream",
     "text": [
      "/Users/mforbes/.anaconda/lib/python2.7/distutils/dist.py:267: UserWarning: Unknown distribution option: 'setup_requires'\n",
      "  warnings.warn(msg)\n",
      "running test\n",
      "running nosetests\n",
      "running egg_info\n",
      "writing requirements to mmfutils.egg-info/requires.txt\n",
      "writing mmfutils.egg-info/PKG-INFO\n",
      "writing top-level names to mmfutils.egg-info/top_level.txt\n",
      "writing dependency_links to mmfutils.egg-info/dependency_links.txt\n",
      "reading manifest file 'mmfutils.egg-info/SOURCES.txt'\n",
      "writing manifest file 'mmfutils.egg-info/SOURCES.txt'\n",
      "nose.config: INFO: Set working dir to /Users/mforbes/work/mmfbb/mmfutils\n",
      "nose.config: INFO: Ignoring files matching ['^\\\\.', '^_', '^setup\\\\.py$']\n",
      "nose.plugins.cover: INFO: Coverage report will include only packages: ['mmfutils']\n",
      "nose.plugins.cover: INFO: Coverage report will include only packages: ['mmfutils']\n",
      "INFO:root:Patching zope.interface.document.asStructuredText to format code\n",
      "INFO:root:Patching flake8 for issues 39 and 40\n",
      "INFO:root:Patching nosetests for issues 813\n",
      "Doctest: mmfutils.containers.Container ... ok\n",
      "Test persistent representation of object class ... ok\n",
      "test_containers.TestObject.test_empty_object ... ok\n",
      "Test persistent representation of object class ... ok\n",
      "test_containers.TestPersist.test_archive ... ok\n",
      "test_interface.TestInterfaces.test_verifyBrokenClass ... ok\n",
      "test_interface.TestInterfaces.test_verifyBrokenObject1 ... ok\n",
      "test_interface.TestInterfaces.test_verifyBrokenObject2 ... ok\n",
      "test_interface.TestInterfaces.test_verifyClass ... ok\n",
      "test_interface.TestInterfaces.test_verifyObject ... ok\n",
      "Doctest: test_interface.Doctests ... ok\n",
      "test_monkeypatchs.TestCoverage.test_cover_monkeypatchs ... INFO:root:Patching flake8 for issues 39 and 40\n",
      "INFO:root:Patching nosetests for issues 813\n",
      "ok\n",
      "test_monkeypatchs.TestCoverage.test_flake8_patch_err ... INFO:root:Patching flake8 for issues 39 and 40\n",
      "INFO:root:Patching nosetests for issues 813\n",
      "ok\n",
      "test_monkeypatchs.TestCoverage.test_nose_patch_err ... INFO:root:Patching flake8 for issues 39 and 40\n",
      "INFO:root:Patching nosetests for issues 813\n",
      "ok\n",
      "\n",
      "Name                        Stmts   Miss  Cover   Missing\n",
      "---------------------------------------------------------\n",
      "mmfutils.py                     1      0   100%   \n",
      "mmfutils/containers.py         38      0   100%   \n",
      "mmfutils/interface.py          47      0   100%   \n",
      "mmfutils/monkeypatches.py      22      0   100%   \n",
      "---------------------------------------------------------\n",
      "TOTAL                         108      0   100%   \n",
      "----------------------------------------------------------------------\n",
      "Ran 14 tests in 0.297s\n",
      "\n",
      "OK\n",
      "running flake8\n",
      "running check\n"
     ]
    }
   ],
   "source": [
    "!cd $ROOTDIR; python setup.py test"
   ]
  },
  {
   "cell_type": "markdown",
   "metadata": {},
   "source": [
    "Complete code coverage information is provided in ``build/_coverage/index.html``."
   ]
  },
  {
   "cell_type": "code",
   "execution_count": 18,
   "metadata": {
    "collapsed": false
   },
   "outputs": [
    {
     "data": {
      "text/html": [
       "<!DOCTYPE html>\n",
       "<html>\n",
       "<head>\n",
       "    <meta http-equiv='Content-Type' content='text/html; charset=utf-8'>\n",
       "    <title>Coverage report</title>\n",
       "    <link rel='stylesheet' href='style.css' type='text/css'>\n",
       "    \n",
       "    <script type='text/javascript' src='jquery.min.js'></script>\n",
       "    <script type='text/javascript' src='jquery.debounce.min.js'></script>\n",
       "    <script type='text/javascript' src='jquery.tablesorter.min.js'></script>\n",
       "    <script type='text/javascript' src='jquery.hotkeys.js'></script>\n",
       "    <script type='text/javascript' src='coverage_html.js'></script>\n",
       "    <script type='text/javascript'>\n",
       "        jQuery(document).ready(coverage.index_ready);\n",
       "    </script>\n",
       "</head>\n",
       "<body class='indexfile'>\n",
       "\n",
       "<div id='header'>\n",
       "    <div class='content'>\n",
       "        <h1>Coverage report:\n",
       "            <span class='pc_cov'>100%</span>\n",
       "        </h1>\n",
       "\n",
       "        <img id='keyboard_icon' src='keybd_closed.png' alt='Show keyboard shortcuts' />\n",
       "\n",
       "        <form id=\"filter_container\">\n",
       "            <input id=\"filter\" type=\"text\" value=\"\" placeholder=\"filter...\" />\n",
       "        </form>\n",
       "    </div>\n",
       "</div>\n",
       "\n",
       "<div class='help_panel'>\n",
       "    <img id='panel_icon' src='keybd_open.png' alt='Hide keyboard shortcuts' />\n",
       "    <p class='legend'>Hot-keys on this page</p>\n",
       "    <div>\n",
       "    <p class='keyhelp'>\n",
       "        <span class='key'>n</span>\n",
       "        <span class='key'>s</span>\n",
       "        <span class='key'>m</span>\n",
       "        <span class='key'>x</span>\n",
       "        \n",
       "        <span class='key'>c</span> &nbsp; change column sorting\n",
       "    </p>\n",
       "    </div>\n",
       "</div>\n",
       "\n",
       "<div id='index'>\n",
       "    <table class='index'>\n",
       "        <thead>\n",
       "            \n",
       "            <tr class='tablehead' title='Click to sort'>\n",
       "                <th class='name left headerSortDown shortkey_n'>Module</th>\n",
       "                <th class='shortkey_s'>statements</th>\n",
       "                <th class='shortkey_m'>missing</th>\n",
       "                <th class='shortkey_x'>excluded</th>\n",
       "                \n",
       "                <th class='right shortkey_c'>coverage</th>\n",
       "            </tr>\n",
       "        </thead>\n",
       "        \n",
       "        <tfoot>\n",
       "            <tr class='total'>\n",
       "                <td class='name left'>Total</td>\n",
       "                <td>108</td>\n",
       "                <td>0</td>\n",
       "                <td>22</td>\n",
       "                \n",
       "                <td class='right' data-ratio='108 108'>100%</td>\n",
       "            </tr>\n",
       "        </tfoot>\n",
       "        <tbody>\n",
       "            \n",
       "            <tr class='file'>\n",
       "                <td class='name left'><a href='mmfutils_py.html'>mmfutils.py</a></td>\n",
       "                <td>1</td>\n",
       "                <td>0</td>\n",
       "                <td>0</td>\n",
       "                \n",
       "                <td class='right' data-ratio='1 1'>100%</td>\n",
       "            </tr>\n",
       "            \n",
       "            <tr class='file'>\n",
       "                <td class='name left'><a href='mmfutils_containers_py.html'>mmfutils/containers.py</a></td>\n",
       "                <td>38</td>\n",
       "                <td>0</td>\n",
       "                <td>0</td>\n",
       "                \n",
       "                <td class='right' data-ratio='38 38'>100%</td>\n",
       "            </tr>\n",
       "            \n",
       "            <tr class='file'>\n",
       "                <td class='name left'><a href='mmfutils_interface_py.html'>mmfutils/interface.py</a></td>\n",
       "                <td>47</td>\n",
       "                <td>0</td>\n",
       "                <td>14</td>\n",
       "                \n",
       "                <td class='right' data-ratio='47 47'>100%</td>\n",
       "            </tr>\n",
       "            \n",
       "            <tr class='file'>\n",
       "                <td class='name left'><a href='mmfutils_monkeypatches_py.html'>mmfutils/monkeypatches.py</a></td>\n",
       "                <td>22</td>\n",
       "                <td>0</td>\n",
       "                <td>8</td>\n",
       "                \n",
       "                <td class='right' data-ratio='22 22'>100%</td>\n",
       "            </tr>\n",
       "            \n",
       "        </tbody>\n",
       "    </table>\n",
       "\n",
       "    <p id=\"no_rows\">\n",
       "        No items found using the specified filter.\n",
       "    </p>\n",
       "</div>\n",
       "\n",
       "<div id='footer'>\n",
       "    <div class='content'>\n",
       "        <p>\n",
       "            <a class='nav' href='https://coverage.readthedocs.org/en/4.0a6'>coverage.py v4.0a6</a>\n",
       "        </p>\n",
       "    </div>\n",
       "</div>\n",
       "\n",
       "</body>\n",
       "</html>\n"
      ],
      "text/plain": [
       "<IPython.core.display.HTML object>"
      ]
     },
     "execution_count": 18,
     "metadata": {},
     "output_type": "execute_result"
    }
   ],
   "source": [
    "from IPython.display import HTML\n",
    "with open(os.path.join(ROOTDIR, 'build/_coverage/index.html')) as f:\n",
    "    coverage = f.read()\n",
    "HTML(coverage)"
   ]
  }
 ],
 "metadata": {
  "kernelspec": {
   "display_name": "Python 2",
   "language": "python",
   "name": "python2"
  },
  "language_info": {
   "codemirror_mode": {
    "name": "ipython",
    "version": 2
   },
   "file_extension": ".py",
   "mimetype": "text/x-python",
   "name": "python",
   "nbconvert_exporter": "python",
   "pygments_lexer": "ipython2",
   "version": "2.7.9"
  }
 },
 "nbformat": 4,
 "nbformat_minor": 0
}
