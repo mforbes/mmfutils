{
 "cells": [
  {
   "cell_type": "markdown",
   "metadata": {},
   "source": [
    "# 1. MMF Utils"
   ]
  },
  {
   "cell_type": "markdown",
   "metadata": {},
   "source": [
    "Small set of utilities: containers and interfaces.\n",
    "\n",
    "This package provides some utilities that I tend to rely on during development.  Presently it includes some convenience containers, plotting tools, and a patch for including [zope.interface](http://docs.zope.org/zope.interface/) documentation in a notebook.\n",
    "\n",
    "(Note: If this file does not render properly, try viewing it through [nbviewer.org](http://nbviewer.ipython.org/urls/bitbucket.org/mforbes/mmfutils-fork/raw/tip/doc/README.ipynb))\n",
    "\n",
    "**Documentation:**\n",
    "   http://mmfutils.readthedocs.org\n",
    "\n",
    "**Source:**\n",
    "   https://bitbucket.org/mforbes/mmfutils\n",
    "   \n",
    "**Issues:**\n",
    "  https://bitbucket.org/mforbes/mmfutils/issues\n",
    "  \n",
    "**Build Status:**\n",
    "\n",
    "<table>\n",
    "  <tr>\n",
    "    <td>[Main](https://bitbucket.org/mforbes/mmfutils)</td>\n",
    "    <td>[Fork](https://bitbucket.org/mforbes/mmfutils-fork)</td>\n",
    "  </tr><tr>\n",
    "    <td>[![mmfutils Build Status]](https://drone.io/bitbucket.org/mforbes/mmfutils/latest)</td>\n",
    "    <td>[![mmfutils-fork Build Status]](https://drone.io/bitbucket.org/mforbes/mmfutils-fork/latest)</td>\n",
    "  </tr>\n",
    "</table>\n",
    "\n",
    "[mmfutils Build Status]: https://drone.io/bitbucket.org/mforbes/mmfutils/status.png\n",
    "[mmfutils-fork Build Status]: https://drone.io/bitbucket.org/mforbes/mmfutils-fork/status.png"
   ]
  },
  {
   "cell_type": "markdown",
   "metadata": {},
   "source": [
    "#Table of Contents\n",
    "* [1. MMF Utils](#1.-MMF-Utils)\n",
    "\t* [1.1 Installing](#1.1-Installing)\n",
    "* [2. Usage](#2.-Usage)\n",
    "\t* [2.1 Containers](#2.1-Containers)\n",
    "\t\t* [2.1.1 Object](#2.1.1-Object)\n",
    "\t\t\t* [2.1.1.1 Object Example](#2.1.1.1-Object-Example)\n",
    "\t\t* [2.1.2 Container](#2.1.2-Container)\n",
    "\t\t\t* [2.1.2.1 Container Examples](#2.1.2.1-Container-Examples)\n",
    "\t* [2.2 Interfaces](#2.2-Interfaces)\n",
    "\t\t* [2.2.1 Interface Documentation](#2.2.1-Interface-Documentation)\n",
    "\t* [2.3 Parallel](#2.3-Parallel)\n",
    "\t* [2.4 Performance](#2.4-Performance)\n",
    "\t* [2.5 Plotting](#2.5-Plotting)\n",
    "\t\t* [2.5.1 Fast Filled Contour Plots](#2.5.1-Fast-Filled-Contour-Plots)\n",
    "\t\t* [2.5.2 Angular Variables](#2.5.2-Angular-Variables)\n",
    "\t* [2.6 Debugging](#2.6-Debugging)\n",
    "* [3. Developer Instructions](#3.-Developer-Instructions)\n"
   ]
  },
  {
   "cell_type": "markdown",
   "metadata": {},
   "source": [
    "## 1.1 Installing"
   ]
  },
  {
   "cell_type": "markdown",
   "metadata": {},
   "source": [
    "This package can be installed from [from the bitbucket project](https://bitbucket.org/mforbes/mmfutils):\n",
    "\n",
    "```bash\n",
    "pip install hg+https://bitbucket.org/mforbes/mmfutils\n",
    "```"
   ]
  },
  {
   "cell_type": "markdown",
   "metadata": {},
   "source": [
    "# 2. Usage"
   ]
  },
  {
   "cell_type": "markdown",
   "metadata": {},
   "source": [
    "## 2.1 Containers"
   ]
  },
  {
   "cell_type": "markdown",
   "metadata": {},
   "source": [
    "### 2.1.1 Object"
   ]
  },
  {
   "cell_type": "markdown",
   "metadata": {},
   "source": [
    "The ``Object`` object provides a base class to satisfy the following use-case.\n",
    "\n",
    "**Serialization and Deferred Initialization:**  Consider a problem where a class is defined through a few parameters, but requires extensive initialization before it can be properly used.  An example is a numerical simulation where one passes the number of grid points $N$ and a length $L$, but the initialization must generate large grids for efficient use later on. These grids should not be pickled when the object is serialized: instead, they should be generated at the end of initialization.  By default, everything in ``__dict__`` will be pickled, leading to bloated pickles.  The solution here is to split initialization into two steps: ``__init__()`` should initialize everything that is picklable, then ``init()`` should do any further initialization, defining the grid points based on the values of the picklable attributes.  To do this, the semantics of the ``__init__()`` method are changed slightly here.  ``Object.__init__()`` registers all keys in ``__dict__`` as ``self.picklable_attributes``.  These and only these attributes will be pickled (through the provided ``__getstate__`` and ``__setstate__`` methods).  \n",
    "\n",
    "The intended use is for subclasses to set and defined all attributes that should be pickled in the ``__init__()`` method, then call ``Object.__init__(self)``.  Any additional initialization can be done after this call, or in the ``init()`` method (see below) and attributes defined after this point will be treated as temporary.  Note, however, that unpickling an object will not call ``__init__()`` so any additional initialization required should be included in the ``init()`` method.\n",
    "\n",
    "**Deferred initialization via the ``init()`` method:** The idea here is to defer any expensive initialization – especially that which creates large temporary data that should not be pickled – until later.  This method is automatically called at the end of ``Object.__init__()`` and after restoring a pickle.  A further use-case is to allow one to change many parameters, then reinitialize the object once with an explicit call to ``init()``."
   ]
  },
  {
   "cell_type": "markdown",
   "metadata": {},
   "source": [
    "#### 2.1.1.1 Object Example"
   ]
  },
  {
   "cell_type": "code",
   "execution_count": 1,
   "metadata": {
    "collapsed": false
   },
   "outputs": [
    {
     "name": "stdout",
     "output_type": "stream",
     "text": [
      "__init__() called\n",
      "init() called\n",
      "State(L=1.0, N=256)\n"
     ]
    }
   ],
   "source": [
    "ROOTDIR = !hg root\n",
    "ROOTDIR = ROOTDIR[0]\n",
    "import sys;sys.path.insert(0, ROOTDIR)\n",
    "\n",
    "import numpy as np\n",
    "\n",
    "from mmfutils.containers import Object\n",
    "\n",
    "class State(Object):\n",
    "    def __init__(self, N, L=1.0):\n",
    "        \"\"\"This method should set all of the picklable\n",
    "        parameters, in this case, N and L.\"\"\"\n",
    "        print(\"__init__() called\")\n",
    "        self.N = N\n",
    "        self.L = L\n",
    "        \n",
    "        # Now register these and call init()\n",
    "        Object.__init__(self)\n",
    "        \n",
    "    def init(self):\n",
    "        \"\"\"All additional initializations\"\"\"\n",
    "        print(\"init() called\")\n",
    "        dx = self.L / self.N\n",
    "        self.x = np.arange(self.N, dtype=float) * dx - self.L/2.0\n",
    "        self.k = 2*np.pi * np.fft.fftfreq(self.N, dx)\n",
    "\n",
    "        # Set highest momentum to zero if N is even to\n",
    "        # avoid rapid oscillations\n",
    "        if self.N % 2 == 0:\n",
    "            self.k[self.N/2.0] = 0.0\n",
    "            \n",
    "    def compute_derivative(self, f):\n",
    "        \"\"\"Return the derivative of f.\"\"\"        \n",
    "        return np.fft.ifft(self.k*1j*np.fft.fft(f)).real\n",
    "\n",
    "s = State(256)\n",
    "print s"
   ]
  },
  {
   "cell_type": "markdown",
   "metadata": {},
   "source": [
    "One feature is that a nice ``repr()`` of the object is produced.  Now let's do a calculation:"
   ]
  },
  {
   "cell_type": "code",
   "execution_count": 2,
   "metadata": {
    "collapsed": false
   },
   "outputs": [
    {
     "data": {
      "text/plain": [
       "True"
      ]
     },
     "execution_count": 2,
     "metadata": {},
     "output_type": "execute_result"
    }
   ],
   "source": [
    "f = np.exp(3*np.cos(2*np.pi*s.x/s.L)) / 15\n",
    "df = -2.*np.pi/5.*np.exp(3*np.cos(2*np.pi*s.x/s.L))*np.sin(2*np.pi*s.x/s.L)/s.L\n",
    "np.allclose(s.compute_derivative(f), df)"
   ]
  },
  {
   "cell_type": "markdown",
   "metadata": {},
   "source": [
    "Here we demonstrate pickling.  Note that the pickle is very small, and when unpickled, ``init()`` is called to re-establish ``s.x`` and ``s.k``."
   ]
  },
  {
   "cell_type": "code",
   "execution_count": 3,
   "metadata": {
    "collapsed": false
   },
   "outputs": [
    {
     "name": "stdout",
     "output_type": "stream",
     "text": [
      "169\n",
      "init() called\n"
     ]
    }
   ],
   "source": [
    "import pickle\n",
    "s_repr = pickle.dumps(s)\n",
    "print(len(s_repr))\n",
    "s1 = pickle.loads(s_repr)"
   ]
  },
  {
   "cell_type": "markdown",
   "metadata": {},
   "source": [
    "Another use case applies when ``init()`` is expensive.  If $x$ and $k$ were computed in ``__init__()``, then using properties to change both $N$ and $L$ would trigger two updates.  Here we do the updates, then call ``init()``.  Good practice is to call ``init()`` automatically before any serious calculation to ensure that the object is brought up to date before the computation."
   ]
  },
  {
   "cell_type": "code",
   "execution_count": 4,
   "metadata": {
    "collapsed": false
   },
   "outputs": [
    {
     "name": "stdout",
     "output_type": "stream",
     "text": [
      "init() called\n"
     ]
    }
   ],
   "source": [
    "s.N = 64\n",
    "s.L = 2.0\n",
    "s.init()"
   ]
  },
  {
   "cell_type": "markdown",
   "metadata": {},
   "source": [
    "Finally, we demonstrate that ``Object`` instances can be archived using the ``persist`` package:"
   ]
  },
  {
   "cell_type": "code",
   "execution_count": 5,
   "metadata": {
    "collapsed": false
   },
   "outputs": [
    {
     "name": "stdout",
     "output_type": "stream",
     "text": [
      "__init__() called\n",
      "init() called\n"
     ]
    },
    {
     "data": {
      "text/plain": [
       "State(L=2.0, N=64)"
      ]
     },
     "execution_count": 5,
     "metadata": {},
     "output_type": "execute_result"
    }
   ],
   "source": [
    "import persist.archive;reload(persist.archive)\n",
    "a = persist.archive.Archive(check_on_insert=True)\n",
    "a.insert(s=s)\n",
    "\n",
    "d = {}\n",
    "exec str(a) in d\n",
    "\n",
    "d['s']"
   ]
  },
  {
   "cell_type": "markdown",
   "metadata": {},
   "source": [
    "### 2.1.2 Container"
   ]
  },
  {
   "cell_type": "markdown",
   "metadata": {},
   "source": [
    "The ``Container`` object is a slight extension of ``Object`` that provides a simple container for storing data with attribute and iterative access. These implement some of the [Collections Abstract Base Classes from the python standard library](https://docs.python.org/2/library/collections.html#collections-abstract-base-classes). The following containers are provided:\n",
    "\n",
    "- ``Container``: Bare-bones container extending the ``Sized``, ``Iterable``, and ``Container`` abstract ase classes (ABCs) from the standard ``containers`` library.\n",
    "- ``ContainerList``: Extension that acts like a tuple/list satisfying the ``Sequence`` ABC from the ``containers`` library (but not the ``MutableSequence`` ABC.  Although we allow setting and deleting items, we do not provide a way for insertion, which breaks this interface.)\n",
    "- ``ContainerDict``: Extension that acts like a dict satisfying the ``MutableMapping`` ABC from the ``containers`` library.\n",
    "\n",
    "These were designed with the following use cases in mind:\n",
    "\n",
    "- Returning data from a function associating names with each data.  The resulting ``ContainerList`` will act like a tuple, but will support attribute access.  Note that the order will be lexicographic.  One could use a dictionary, but attribute access with tab completion is much nicer in an interactive session.  The ``containers.nametuple`` generator could also be used, but this is somewhat more complicated (though might be faster).  Also, named tuples are immutable - here we provide a mutable object that is picklable etc.  The choice between ``ContainerList`` and ``ContainerDict`` will depend on subsequent usage.  Containers can be converted from one type to another."
   ]
  },
  {
   "cell_type": "markdown",
   "metadata": {},
   "source": [
    "#### 2.1.2.1 Container Examples"
   ]
  },
  {
   "cell_type": "code",
   "execution_count": 6,
   "metadata": {
    "collapsed": false
   },
   "outputs": [
    {
     "name": "stdout",
     "output_type": "stream",
     "text": [
      "Container(a=1, b='Hi there', c=2)\n",
      "(1, 'Hi there', 2)\n"
     ]
    }
   ],
   "source": [
    "from mmfutils.containers import Container\n",
    "\n",
    "c = Container(a=1, c=2, b='Hi there')\n",
    "print c\n",
    "print tuple(c)"
   ]
  },
  {
   "cell_type": "code",
   "execution_count": 7,
   "metadata": {
    "collapsed": false
   },
   "outputs": [
    {
     "name": "stdout",
     "output_type": "stream",
     "text": [
      "Container(a=1, b='Ho there', c=2)\n"
     ]
    }
   ],
   "source": [
    "# Attributes are mutable\n",
    "c.b = 'Ho there'\n",
    "print c"
   ]
  },
  {
   "cell_type": "code",
   "execution_count": 8,
   "metadata": {
    "collapsed": false
   },
   "outputs": [
    {
     "name": "stdout",
     "output_type": "stream",
     "text": [
      "Container(a=1, b='Ho there', c=2)\n",
      "[[ 1.  1.  1. ...,  1.  1.  1.]\n",
      " [ 1.  1.  1. ...,  1.  1.  1.]\n",
      " [ 1.  1.  1. ...,  1.  1.  1.]\n",
      " ..., \n",
      " [ 1.  1.  1. ...,  1.  1.  1.]\n",
      " [ 1.  1.  1. ...,  1.  1.  1.]\n",
      " [ 1.  1.  1. ...,  1.  1.  1.]]\n"
     ]
    }
   ],
   "source": [
    "# Other attributes can be used for temporary storage but will not be pickled.\n",
    "import numpy as np\n",
    "\n",
    "c.large_temporary_array = np.ones((256,256))\n",
    "print c\n",
    "print c.large_temporary_array"
   ]
  },
  {
   "cell_type": "code",
   "execution_count": 9,
   "metadata": {
    "collapsed": false
   },
   "outputs": [
    {
     "name": "stdout",
     "output_type": "stream",
     "text": [
      "Container(a=1, b='Ho there', c=2)\n"
     ]
    },
    {
     "ename": "AttributeError",
     "evalue": "'Container' object has no attribute 'large_temporary_array'",
     "output_type": "error",
     "traceback": [
      "\u001b[0;31m---------------------------------------------------------------------------\u001b[0m",
      "\u001b[0;31mAttributeError\u001b[0m                            Traceback (most recent call last)",
      "\u001b[0;32m<ipython-input-9-cbfd03ed340e>\u001b[0m in \u001b[0;36m<module>\u001b[0;34m()\u001b[0m\n\u001b[1;32m      2\u001b[0m \u001b[0mc1\u001b[0m \u001b[0;34m=\u001b[0m \u001b[0mpickle\u001b[0m\u001b[0;34m.\u001b[0m\u001b[0mloads\u001b[0m\u001b[0;34m(\u001b[0m\u001b[0mpickle\u001b[0m\u001b[0;34m.\u001b[0m\u001b[0mdumps\u001b[0m\u001b[0;34m(\u001b[0m\u001b[0mc\u001b[0m\u001b[0;34m)\u001b[0m\u001b[0;34m)\u001b[0m\u001b[0;34m\u001b[0m\u001b[0m\n\u001b[1;32m      3\u001b[0m \u001b[0;32mprint\u001b[0m \u001b[0mc1\u001b[0m\u001b[0;34m\u001b[0m\u001b[0m\n\u001b[0;32m----> 4\u001b[0;31m \u001b[0mc1\u001b[0m\u001b[0;34m.\u001b[0m\u001b[0mlarge_temporary_array\u001b[0m\u001b[0;34m\u001b[0m\u001b[0m\n\u001b[0m",
      "\u001b[0;31mAttributeError\u001b[0m: 'Container' object has no attribute 'large_temporary_array'"
     ]
    }
   ],
   "source": [
    "import pickle\n",
    "c1 = pickle.loads(pickle.dumps(c))\n",
    "print c1\n",
    "c1.large_temporary_array"
   ]
  },
  {
   "cell_type": "markdown",
   "metadata": {},
   "source": [
    "## 2.2 Interfaces"
   ]
  },
  {
   "cell_type": "markdown",
   "metadata": {},
   "source": [
    "The interfaces module collects some useful [zope.interface](http://docs.zope.org/zope.interface/) tools for checking interface requirements.  Interfaces provide a convenient way of communicating to a programmer what needs to be done to used your code.  This can then be checked in tests."
   ]
  },
  {
   "cell_type": "code",
   "execution_count": 10,
   "metadata": {
    "collapsed": false
   },
   "outputs": [],
   "source": [
    "from mmfutils.interface import Interface, Attribute, verifyClass, verifyObject, implements\n",
    "\n",
    "class IAdder(Interface):\n",
    "    \"\"\"Interface for objects that support addition.\"\"\"\n",
    "\n",
    "    value = Attribute('value', \"Current value of object\")\n",
    "\n",
    "    # No self here since this is the \"user\" interface\n",
    "    def add(other):\n",
    "        \"\"\"Return self + other.\"\"\""
   ]
  },
  {
   "cell_type": "markdown",
   "metadata": {},
   "source": [
    "Here is a broken implementation. We muck up the arguments to ``add``:"
   ]
  },
  {
   "cell_type": "code",
   "execution_count": 11,
   "metadata": {
    "collapsed": false
   },
   "outputs": [
    {
     "name": "stdout",
     "output_type": "stream",
     "text": [
      "BrokenMethodImplementation: The implementation of add violates its contract\n",
      "        because implementation requires too many arguments.\n",
      "        \n"
     ]
    }
   ],
   "source": [
    "class AdderBroken(object):\n",
    "    implements(IAdder)\n",
    "    \n",
    "    def add(self, one, another):\n",
    "        # There should only be one argument!\n",
    "        return one + another\n",
    "\n",
    "try:\n",
    "    verifyClass(IAdder, AdderBroken)\n",
    "except Exception, e:\n",
    "    print(\"{0.__class__.__name__}: {0}\".format(e))\n",
    "    "
   ]
  },
  {
   "cell_type": "markdown",
   "metadata": {},
   "source": [
    "Now we get ``add`` right, but forget to define ``value``.  This is only caught when we have an object since the attribute is supposed to be defined in ``__init__()``:"
   ]
  },
  {
   "cell_type": "code",
   "execution_count": 12,
   "metadata": {
    "collapsed": false
   },
   "outputs": [
    {
     "name": "stdout",
     "output_type": "stream",
     "text": [
      "BrokenImplementation: An object has failed to implement interface <InterfaceClass __main__.IAdder>\n",
      "\n",
      "        The value attribute was not provided.\n",
      "        \n"
     ]
    }
   ],
   "source": [
    "class AdderBroken(object):\n",
    "    implements(IAdder)\n",
    "    \n",
    "    def add(self, other):\n",
    "        return one + other\n",
    "\n",
    "# The class validates...\n",
    "verifyClass(IAdder, AdderBroken)\n",
    "\n",
    "# ... but objects are missing the value Attribute\n",
    "try:\n",
    "    verifyObject(IAdder, AdderBroken())\n",
    "except Exception, e:\n",
    "    print(\"{0.__class__.__name__}: {0}\".format(e))    "
   ]
  },
  {
   "cell_type": "markdown",
   "metadata": {},
   "source": [
    "Finally, a working instance:"
   ]
  },
  {
   "cell_type": "code",
   "execution_count": 13,
   "metadata": {
    "collapsed": false
   },
   "outputs": [
    {
     "data": {
      "text/plain": [
       "True"
      ]
     },
     "execution_count": 13,
     "metadata": {},
     "output_type": "execute_result"
    }
   ],
   "source": [
    "class Adder(object):\n",
    "    implements(IAdder)\n",
    "    def __init__(self, value=0):\n",
    "        self.value = value\n",
    "    def add(self, other):\n",
    "        return one + other\n",
    "    \n",
    "verifyClass(IAdder, Adder) and verifyObject(IAdder, Adder())"
   ]
  },
  {
   "cell_type": "markdown",
   "metadata": {},
   "source": [
    "### 2.2.1 Interface Documentation"
   ]
  },
  {
   "cell_type": "markdown",
   "metadata": {},
   "source": [
    "We also monkeypatch ``zope.interface.documentation.asStructuredText()`` to provide a mechanism for documentating interfaces in a notebook.  This still requires a bit of work to convert the string to HTML for display using ``docutils``:"
   ]
  },
  {
   "cell_type": "code",
   "execution_count": 14,
   "metadata": {
    "collapsed": false
   },
   "outputs": [],
   "source": [
    "# Chunk of code to display interfaces.\n",
    "# See: http://code.activestate.com/recipes/\n",
    "#            193890-using-rest-restructuredtext-to-create-html-snippet/\n",
    "import IPython.display\n",
    "\n",
    "from docutils import core\n",
    "from docutils.writers.html4css1 import Writer, HTMLTranslator\n",
    "\n",
    "import zope.interface.document\n",
    "\n",
    "\n",
    "class NoHeaderHTMLTranslator(HTMLTranslator):\n",
    "    def __init__(self, document):\n",
    "        HTMLTranslator.__init__(self, document)\n",
    "        self.head_prefix = ['']*5\n",
    "        self.body_prefix = []\n",
    "        self.body_suffix = []\n",
    "        self.stylesheet = []\n",
    "\n",
    "\n",
    "_w = Writer()\n",
    "_w.translator_class = NoHeaderHTMLTranslator\n",
    "\n",
    "\n",
    "def reSTify(string):\n",
    "    return IPython.display.HTML(core.publish_string(string, writer=_w))\n",
    "\n",
    "\n",
    "def describe_interface(interface):\n",
    "    rst = zope.interface.document.asStructuredText(interface)\n",
    "    return IPython.display.display(reSTify(rst))"
   ]
  },
  {
   "cell_type": "markdown",
   "metadata": {},
   "source": [
    "Now we can show the interface in our documentation:"
   ]
  },
  {
   "cell_type": "code",
   "execution_count": 15,
   "metadata": {
    "collapsed": false
   },
   "outputs": [
    {
     "name": "stderr",
     "output_type": "stream",
     "text": [
      "/data/apps/anaconda/envs/work/lib/python2.7/site-packages/pygments/plugin.py:39: UserWarning: Module errno was already imported from None, but /data/src/python/pygsl-0.9.5 is being added to sys.path\n",
      "  import pkg_resources\n"
     ]
    },
    {
     "data": {
      "text/html": [
       "<!DOCTYPE html PUBLIC \"-//W3C//DTD XHTML 1.0 Transitional//EN\" \"http://www.w3.org/TR/xhtml1/DTD/xhtml1-transitional.dtd\">\n",
       "<html xmlns=\"http://www.w3.org/1999/xhtml\" xml:lang=\"en\" lang=\"en\">\n",
       "<head>\n",
       "<meta http-equiv=\"Content-Type\" content=\"text/html; charset=utf-8\" />\n",
       "<meta name=\"generator\" content=\"Docutils 0.12: http://docutils.sourceforge.net/\" />\n",
       "<title></title>\n",
       "\n",
       "<div class=\"document\">\n",
       "\n",
       "\n",
       "<p><tt class=\"docutils literal\">IAdder</tt></p>\n",
       "<blockquote>\n",
       "<p>Interface for objects that support addition.</p>\n",
       "<p>Attributes:</p>\n",
       "<blockquote>\n",
       "<tt class=\"docutils literal\">value</tt> -- Current value of object</blockquote>\n",
       "<p>Methods:</p>\n",
       "<blockquote>\n",
       "<tt class=\"docutils literal\">add(other)</tt> -- Return self + other.</blockquote>\n",
       "</blockquote>\n",
       "</div>\n"
      ],
      "text/plain": [
       "<IPython.core.display.HTML object>"
      ]
     },
     "metadata": {},
     "output_type": "display_data"
    }
   ],
   "source": [
    "describe_interface(IAdder)"
   ]
  },
  {
   "cell_type": "markdown",
   "metadata": {},
   "source": [
    "## 2.3 Parallel"
   ]
  },
  {
   "cell_type": "markdown",
   "metadata": {},
   "source": [
    "The ``mmfutils.parallel`` module provides some tools for launching and connecting to IPython clusters.  The ``parallel.Cluster`` class represents and controls a cluster.  The cluster is specified by the profile name, and can be started or stopped from this class:"
   ]
  },
  {
   "cell_type": "code",
   "execution_count": 16,
   "metadata": {
    "collapsed": false
   },
   "outputs": [
    {
     "name": "stderr",
     "output_type": "stream",
     "text": [
      "INFO:root:Starting cluster: ipcluster start --daemonize --quiet --profile=default --n=3\n",
      "WARNING:root:No ipcontroller-client.json, waiting...\n",
      "INFO:root:waiting for 3 engines\n",
      "INFO:root:0 of 3 running\n",
      "INFO:root:3 of 3 running\n",
      "INFO:root:Stopping cluster: ipcluster stop --profile=default\n"
     ]
    },
    {
     "name": "stdout",
     "output_type": "stream",
     "text": [
      "True\n"
     ]
    }
   ],
   "source": [
    "import logging\n",
    "logger = logging.getLogger()\n",
    "logger.setLevel(logging.INFO)\n",
    "import numpy as np\n",
    "from mmfutils import parallel\n",
    "cluster = parallel.Cluster(profile='default', n=3, sleep_time=1.0)\n",
    "cluster.start()\n",
    "cluster.wait()  # Instance of IPython.parallel.Client\n",
    "view = cluster.load_balanced_view\n",
    "x = np.linspace(-6,6, 100)\n",
    "y = view.map(lambda x:x**2, x)\n",
    "print np.allclose(y, x**2)\n",
    "cluster.stop()"
   ]
  },
  {
   "cell_type": "markdown",
   "metadata": {},
   "source": [
    "If you only need a cluster for a single task, it can be managed with a context.  Be sure to wait for the result to be computed before exiting the context and shutting down the cluster!"
   ]
  },
  {
   "cell_type": "code",
   "execution_count": 17,
   "metadata": {
    "collapsed": false
   },
   "outputs": [
    {
     "name": "stderr",
     "output_type": "stream",
     "text": [
      "INFO:root:Starting cluster: ipcluster start --daemonize --quiet --profile=default --n=3\n",
      "WARNING:root:No ipcontroller-client.json, waiting...\n",
      "INFO:root:waiting for 3 engines\n",
      "INFO:root:0 of 3 running\n",
      "INFO:root:3 of 3 running\n",
      "INFO:root:Stopping cluster: ipcluster stop --profile=default\n"
     ]
    },
    {
     "name": "stdout",
     "output_type": "stream",
     "text": [
      "True\n"
     ]
    }
   ],
   "source": [
    "with parallel.Cluster(profile='default', n=3, sleep_time=1.0) as client:\n",
    "    view = client.load_balanced_view\n",
    "    x = np.linspace(-6,6, 100)\n",
    "    y = view.map(lambda x:x**2, x, block=True)  # Make sure to wait for the result!\n",
    "print np.allclose(y, x**2)"
   ]
  },
  {
   "cell_type": "markdown",
   "metadata": {},
   "source": [
    "If you just need to connect to a running cluster, you can use ``parallel.get_client()``."
   ]
  },
  {
   "cell_type": "markdown",
   "metadata": {},
   "source": [
    "## 2.4 Performance"
   ]
  },
  {
   "cell_type": "markdown",
   "metadata": {},
   "source": [
    "The ``mmfutils.performance`` module provides some tools for high performance computing.  Note: this module requires some additional packages including [numexp](https://github.com/pydata/numexpr/wiki/Numexpr-Users-Guide), [pyfftw](http://hgomersall.github.io/pyFFTW/), and the ``mkl`` package installed by anaconda.  Some of these require building system libraries (i.e. the [FFTW](http://www.fftw.org)).  However, the various components will not be imported by default.\n",
    "\n",
    "Here is a brief description of the components:\n",
    "\n",
    "* ``mmfutils.performance.blas``: Provides an interface to a few of the scipy BLAS wrappers.  Very incomplete (only things I currently need).\n",
    "* ``mmfutils.performance.fft``: Provides an interface to the [FFTW](http://www.fftw.org) using ``pyfftw`` if it is available.  Also enables the planning cache and setting threads so you can better control your performance.\n",
    "* ``mmfutils.performance.numexpr``: Robustly imports numexpr and disabling the VML.  (If you don't do this carefully, it will crash your program so fast you won't even get a traceback.)\n",
    "* ``mmfutils.performance.threads``: Provides some hooks for setting the maximum number of threads in a bunch of places including the MKL, numexpr, and fftw."
   ]
  },
  {
   "cell_type": "markdown",
   "metadata": {},
   "source": [
    "## 2.5 Plotting"
   ]
  },
  {
   "cell_type": "markdown",
   "metadata": {},
   "source": [
    "Several tools are provided in `mmfutils.plot`:"
   ]
  },
  {
   "cell_type": "markdown",
   "metadata": {},
   "source": [
    "### 2.5.1 Fast Filled Contour Plots"
   ]
  },
  {
   "cell_type": "markdown",
   "metadata": {},
   "source": [
    "`mmfutils.plot.imcontourf` is similar to matplotlib's `plt.contourf` function, but uses `plt.imshow` which is much faster.  This has limitations – the data must be equally spaced for example, and it effectively has as many contours as colours – but is useful for animations and interactive work.  It also supports my idea of saner array-shape processing (i.e. if `x` and `y` have different shapes, then it will match these to the shape of `z`)."
   ]
  },
  {
   "cell_type": "code",
   "execution_count": 18,
   "metadata": {
    "collapsed": false
   },
   "outputs": [
    {
     "name": "stdout",
     "output_type": "stream",
     "text": [
      "CPU times: user 1.07 ms, sys: 50 µs, total: 1.12 ms\n",
      "Wall time: 1.12 ms\n",
      "CPU times: user 37.2 ms, sys: 1.37 ms, total: 38.6 ms\n",
      "Wall time: 38.6 ms\n"
     ]
    },
    {
     "data": {
      "text/plain": [
       "<matplotlib.contour.QuadContourSet instance at 0x115dee170>"
      ]
     },
     "execution_count": 18,
     "metadata": {},
     "output_type": "execute_result"
    },
    {
     "data": {
      "image/png": "[encoded data removed]",
      "text/plain": [
       "<matplotlib.figure.Figure at 0x114509b10>"
      ]
     },
     "metadata": {},
     "output_type": "display_data"
    }
   ],
   "source": [
    "%matplotlib inline\n",
    "from matplotlib import pyplot as plt\n",
    "import time\n",
    "import numpy as np\n",
    "from mmfutils import plot as mmfplt\n",
    "x = np.linspace(-1, 1, 100)[:, None]\n",
    "y = np.linspace(-0.1, 0.1, 200)[None, :]\n",
    "z = np.sin(10*x)*y**2\n",
    "plt.subplot(121)\n",
    "%time mmfplt.imcontourf(x, y, z)\n",
    "plt.subplot(122)\n",
    "%time plt.contourf(x.ravel(), y.ravel(), z.T, 50, cmap='gist_heat')"
   ]
  },
  {
   "cell_type": "markdown",
   "metadata": {},
   "source": [
    "### 2.5.2 Angular Variables"
   ]
  },
  {
   "cell_type": "markdown",
   "metadata": {},
   "source": [
    "A couple of tools are provided to visualize angular fields, such as the phase of a complex wavefunction."
   ]
  },
  {
   "cell_type": "code",
   "execution_count": 19,
   "metadata": {
    "collapsed": false
   },
   "outputs": [
    {
     "data": {
      "text/plain": [
       "(<matplotlib.contour.QuadContourSet instance at 0x1164ce710>,\n",
       " <matplotlib.contour.QuadContourSet instance at 0x11442fef0>)"
      ]
     },
     "execution_count": 19,
     "metadata": {},
     "output_type": "execute_result"
    },
    {
     "data": {
      "image/png": "[encoded data removed]",
      "text/plain": [
       "<matplotlib.figure.Figure at 0x11620dc90>"
      ]
     },
     "metadata": {},
     "output_type": "display_data"
    }
   ],
   "source": [
    "%matplotlib inline\n",
    "from matplotlib import pyplot as plt\n",
    "import time\n",
    "import numpy as np\n",
    "from mmfutils import plot as mmfplt\n",
    "x = np.linspace(-1, 1, 100)[:, None]\n",
    "y = np.linspace(-1, 1, 200)[None, :]\n",
    "z = x + 1j*y\n",
    "\n",
    "plt.subplot(121).set_aspect(1)\n",
    "mmfplt.phase_contour(x, y, z, aspect=1, colors='k', linewidths=0.5)\n",
    "plt.subplot(122).set_aspect(1)\n",
    "mmfplt.imcontourf(x, y, mmfplt.color_complex(z), aspect=1)\n",
    "mmfplt.phase_contour(x, y, z, aspect=1, linewidths=0.5)"
   ]
  },
  {
   "cell_type": "markdown",
   "metadata": {},
   "source": [
    "## 2.6 Debugging"
   ]
  },
  {
   "cell_type": "markdown",
   "metadata": {},
   "source": [
    "A couple of debugging tools are provided.  The most useful is the `debug` decorator which will store the local variables of a function in a dictionary or in your global scope."
   ]
  },
  {
   "cell_type": "code",
   "execution_count": 20,
   "metadata": {
    "collapsed": false
   },
   "outputs": [
    {
     "name": "stdout",
     "output_type": "stream",
     "text": [
      "(1.0, 2.0, 2.8284271247461903, 1.0)\n"
     ]
    }
   ],
   "source": [
    "from mmfutils.debugging import debug\n",
    "\n",
    "@debug(locals())\n",
    "def f(x):\n",
    "    y = x**1.5\n",
    "    z = 2/x\n",
    "    return z\n",
    "\n",
    "print(f(2.0), x, y, z)"
   ]
  },
  {
   "cell_type": "markdown",
   "metadata": {},
   "source": [
    "# 3. Developer Instructions"
   ]
  },
  {
   "cell_type": "markdown",
   "metadata": {},
   "source": [
    "If you are a developer of this package, there are a few things to be aware of.\n",
    "\n",
    "1. If you modify the notebooks in ``docs/notebooks`` then you may need to regenerate some of the ``.rst`` files and commit them so they appear on bitbucket.  This is done automatically by the ``pre-commit`` hook in ``.hgrc`` if you include this in your ``.hg/hgrc`` file with a line like:\n",
    "\n",
    "    ```\n",
    "    %include ../.hgrc\n",
    "    ```\n",
    "\n",
    "**Security Warning:** if you do this, be sure to inspect the ``.hgrc`` file carefully to make sure that no one inserts malicious code.\n",
    "\n",
    "This runs the following code:"
   ]
  },
  {
   "cell_type": "code",
   "execution_count": 21,
   "metadata": {
    "collapsed": false
   },
   "outputs": [
    {
     "name": "stdout",
     "output_type": "stream",
     "text": [
      "/data/apps/anaconda/envs/work/lib/python2.7/site-packages/pygments/plugin.py:39: UserWarning: Module errno was already imported from None, but /data/src/python/pygsl-0.9.5 is being added to sys.path\n",
      "  import pkg_resources\n",
      "[NbConvertApp] Converting notebook doc/README.ipynb to rst\n",
      "[NbConvertApp] Writing 22663 bytes to README.rst\n"
     ]
    }
   ],
   "source": [
    "!cd $ROOTDIR; ipython nbconvert --to=rst --output=README.rst doc/README.ipynb"
   ]
  },
  {
   "cell_type": "markdown",
   "metadata": {},
   "source": [
    "We also run a comprehensive set of tests, and the pre-commit hook will fail if any of these do not pass, or if we don't have complete code coverage.  This uses [nosetests](https://nose.readthedocs.org/en/latest/) and [flake8](http://flake8.readthedocs.org).  To run individal tests do one of:\n",
    "\n",
    "```bash\n",
    "python setup.py nosetests\n",
    "python setup.py flake8\n",
    "python setup.py check\n",
    "python setup.py test   # This runs them all using a custom command defined in setup.py\n",
    "```"
   ]
  },
  {
   "cell_type": "markdown",
   "metadata": {},
   "source": [
    "Here is an example:"
   ]
  },
  {
   "cell_type": "code",
   "execution_count": null,
   "metadata": {
    "collapsed": false
   },
   "outputs": [],
   "source": [
    "!cd $ROOTDIR; python setup.py test"
   ]
  },
  {
   "cell_type": "markdown",
   "metadata": {},
   "source": [
    "Complete code coverage information is provided in ``build/_coverage/index.html``."
   ]
  },
  {
   "cell_type": "code",
   "execution_count": null,
   "metadata": {
    "collapsed": false
   },
   "outputs": [],
   "source": [
    "from IPython.display import HTML\n",
    "with open(os.path.join(ROOTDIR, 'build/_coverage/index.html')) as f:\n",
    "    coverage = f.read()\n",
    "HTML(coverage)"
   ]
  }
 ],
 "metadata": {
  "kernelspec": {
   "display_name": "Python 2",
   "language": "python",
   "name": "python2"
  },
  "language_info": {
   "codemirror_mode": {
    "name": "ipython",
    "version": 2
   },
   "file_extension": ".py",
   "mimetype": "text/x-python",
   "name": "python",
   "nbconvert_exporter": "python",
   "pygments_lexer": "ipython2",
   "version": "2.7.10"
  }
 },
 "nbformat": 4,
 "nbformat_minor": 0
}
