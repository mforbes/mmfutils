{
 "cells": [
  {
   "cell_type": "code",
   "execution_count": 87,
   "metadata": {
    "collapsed": false,
    "hide_input": true,
    "hide_output": true,
    "init_cell": true,
    "run_control": {
     "marked": true
    }
   },
   "outputs": [
    {
     "data": {
      "text/html": [
       "<style>@import url('http://fonts.googleapis.com/css?family=Lato:700');\n",
       "@import url('http://fonts.googleapis.com/css?family=Ubuntu+Mono');\n",
       "@import url('http://fonts.googleapis.com/css?family=Inconsolata');\n",
       "\n",
       "// http://typecast.com/images/uploads/modernscale.css\n",
       "\n",
       "// html {font-size: 32pt;}\n",
       "\n",
       "body, caption, th, td, input, textarea, select, option, legend, fieldset, h1, h2, h3, h4, h5, h6, .CodeMirror {\n",
       "  font-size-adjust: 0.5;\n",
       "}\n",
       "\n",
       "// This is the containing div, so we set the base size here.\n",
       "// All other elements will resize accordingly (not menus)\n",
       "// Unfortunately, it does not work...\n",
       "div #notebook_panel {\n",
       "  font-size: 1em;\n",
       "  /* 1em equivalent to 16px */\n",
       "}\n",
       "\n",
       "#notebook {\n",
       "  font-size: 1.2em;\n",
       "  line-height: 1.25;\n",
       "  /* equivalent to 20px */\n",
       "}\n",
       "\n",
       "@media (min-width: 43.75em) {\n",
       "  #notebook {\n",
       "    font-size: 1.2em;\n",
       "    line-height: 1.375;\n",
       "    /* equivalent to 22px */\n",
       "  }\n",
       "}\n",
       "\n",
       "h1 {\n",
       "  font-size: 2em;\n",
       "  /* 2x body copy size = 32px */\n",
       "  line-height: 1.25;\n",
       "  /* 45px / 36px */\n",
       "}\n",
       "\n",
       "@media (min-width: 43.75em) {\n",
       "  h1 {\n",
       "    font-size: 2.5em;\n",
       "    /* 2.5x body copy size = 40px */\n",
       "    line-height: 1.125;\n",
       "  }\n",
       "}\n",
       "\n",
       "@media (min-width: 56.25em) {\n",
       "  h1 {\n",
       "    font-size: 3em;\n",
       "    /* 3x body copy size = 48px */\n",
       "    line-height: 1.05;\n",
       "    /* keep to a multiple of the 20px line height and something more appropriate for display headings */\n",
       "  }\n",
       "}\n",
       "\n",
       "h2 {\n",
       "  font-size: 1.625em;\n",
       "  /* 1.625x body copy size = 26px */\n",
       "  line-height: 1.15384615;\n",
       "  /* 30px / 26px */\n",
       "}\n",
       "\n",
       "@media (min-width: 43.75em) {\n",
       "  h2 {\n",
       "    font-size: 2em;\n",
       "    /* 2x body copy size = 32px */\n",
       "    line-height: 1.25;\n",
       "  }\n",
       "}\n",
       "\n",
       "@media (min-width: 56.25em) {\n",
       "  h2 {\n",
       "    font-size: 2.25em;\n",
       "    /* 2.25x body copy size = 36px */\n",
       "    line-height: 1.25;\n",
       "  }\n",
       "}\n",
       "\n",
       "h3 {\n",
       "  font-size: 1.375em;\n",
       "  /* 1.375x body copy size = 22px */\n",
       "  line-height: 1.13636364;\n",
       "  /* 25px / 22px */\n",
       "}\n",
       "\n",
       "@media (min-width: 43.75em) {\n",
       "  h3 {\n",
       "    font-size: 1.5em;\n",
       "    /* 1.5x body copy size = 24px */\n",
       "    line-height: 1.25;\n",
       "  }\n",
       "}\n",
       "\n",
       "@media (min-width: 56.25em) {\n",
       "  h3 {\n",
       "    font-size: 1.75em;\n",
       "    /* 1.75x body copy size = 28px */\n",
       "    line-height: 1.25;\n",
       "  }\n",
       "}\n",
       "\n",
       "h4 {\n",
       "  font-size: 1.125em;\n",
       "  /* 1.125x body copy size = 18px */\n",
       "  line-height: 1.11111111;\n",
       "}\n",
       "\n",
       "@media (min-width: 43.75em) {\n",
       "  h4 {\n",
       "    line-height: 1.22222222;\n",
       "    /* (22px / 18px */\n",
       "  }\n",
       "}\n",
       "\n",
       "\n",
       "/* These need some adjustments */\n",
       "blockquote {\n",
       "  font-size: 1em;\n",
       "  /* 20px / 16px */\n",
       "  line-height: 1.25;\n",
       "  /* 25px / 20px */\n",
       "}\n",
       "\n",
       "@media (min-width: 43.75em) {\n",
       "  blockquote {\n",
       "    font-size: 1em;\n",
       "    /* 24px / 16px = */\n",
       "    line-height: 1.45833333;\n",
       "    /* 35px / 24px */\n",
       "  }\n",
       "}\n",
       "\n",
       "#notebook-container {\n",
       "    background-color: #fcfaf2;\n",
       "}\n",
       "\n",
       "div.text_cell_render {\n",
       "    font-family: \"Palatino Linotype\", \"Palatino\", \"Book Antiqua\",\n",
       "                 \"URW Palladio L\", serif;\n",
       "}\n",
       "\n",
       ".CodeMirror pre {\n",
       "    font-family: Inconsolata, Consolas, monocco, monospace;\n",
       "}\n",
       "\n",
       "/* This was an attempt to make it more obvious that long lines */\n",
       "/* extended to the right, but causes a problem with the left bar of trhe */\n",
       "/* input areas overflowing down and obscuring the output */\n",
       "\n",
       "/* .CodeMirror { */\n",
       "/*     overflow: visible; */\n",
       "/* } */\n",
       "\n",
       "div.input_area {\n",
       "    border-color: rgba(0,0,0,0.10);\n",
       "    background: rbga(1,0,0,0.5);\n",
       "    max-width: 48.8em; /* 80 characters instead of 100%, */\n",
       "}\n",
       "\n",
       "div.text_cell_render p {\n",
       "    max-width: 45em; /* instead of 100%, */\n",
       "}\n",
       "\n",
       "h1, h2, h3, h4 {\n",
       "    font-family: Lato, Verdana, sans-serif;\n",
       "}\n",
       "\n",
       ".rendered_html ol {\n",
       "    list-style:decimal;\n",
       "    margin: 1em 2em;\n",
       "}\n",
       "\n",
       "/* My overrrides */\n",
       "div.output_subarea {\n",
       "    background: rgba(0,0,0,0.02);\n",
       "}\n",
       "\n",
       ".rendered_html pre,\n",
       ".rendered_html code {a\n",
       "    line-height: 105%;\n",
       "    font-family: Inconsolata, Consolas, monocco, monospace;\n",
       "    background-color: #fcfaf2;\n",
       "}\n",
       "\n",
       "figure {\n",
       "    display: inline-block;\n",
       "    width: 100%;\n",
       "    max-width: 45em;\n",
       "}\n",
       "\n",
       "figure img {\n",
       "    align: center;\n",
       "}\n",
       "\n",
       "figure figcaption {\n",
       "    text-align: center;\n",
       "}\n",
       "\n",
       ".grade {\n",
       "   background-color: #66FFCC;\n",
       "}\n",
       "</style>"
      ],
      "text/plain": [
       "<IPython.core.display.HTML object>"
      ]
     },
     "metadata": {},
     "output_type": "display_data"
    },
    {
     "data": {
      "application/javascript": [
       "// MathJaX customization, custom commands etc.\n",
       "console.log('Updating MathJax configuration');\n",
       "MathJax.Hub.Config({\n",
       "  \"HTML-CSS\": {\n",
       "      //availableFonts: [\"Neo-Euler\"], preferredFont: \"Neo-Euler\",\n",
       "      //webFont: \"Neo-Euler\",\n",
       "      //scale: 85, // Euler is a bit big.\n",
       "      mtextFontInherit: true,\n",
       "      matchFontHeight: true,\n",
       "      scale: 90, // STIX is a bit big.\n",
       "\n",
       "  },\n",
       "  // This is not working for some reason.\n",
       "  \"TeX\": {\n",
       "    Macros: {\n",
       "        d: [\"\\\\mathrm{d}\"],\n",
       "        I: [\"\\\\mathrm{i}\"],\n",
       "        vect: [\"\\\\vec{#1}\", 1],\n",
       "        uvect: [\"\\\\hat{#1}\", 1],\n",
       "        abs: [\"\\\\lvert#1\\\\rvert\", 1],\n",
       "        Abs: [\"\\\\left\\\\lvert#1\\\\right\\\\rvert\", 1],\n",
       "        norm: [\"\\\\lVert#1\\\\rVert\", 1],\n",
       "        Norm: [\"\\\\left\\\\lVert#1\\\\right\\\\rVert\", 1],\n",
       "        ket: [\"|#1\\\\rangle\", 1],\n",
       "        bra: [\"\\\\langle#1|\", 1],\n",
       "        Ket: [\"\\\\left|#1\\\\right\\\\rangle\", 1],\n",
       "        Bra: [\"\\\\left\\\\langle#1\\\\right|\", 1],\n",
       "        braket: [\"\\\\langle#1\\\\rangle\", 1],\n",
       "        op: [\"\\\\mathbf{#1}\", 1],\n",
       "        mat: [\"\\\\mathbf{#1}\", 1],\n",
       "        pdiff: [\"\\\\frac{\\\\partial^{#1} #2}{\\\\partial {#3}^{#1}}\", 3, \"\"],\n",
       "        diff: [\"\\\\frac{\\\\d^{#1} #2}{\\\\d {#3}^{#1}}\", 3, \"\"],\n",
       "        ddiff: [\"\\\\frac{\\\\delta^{#1} #2}{\\\\delta {#3}^{#1}}\", 3, \"\"],\n",
       "        Tr: \"\\\\mathop{\\\\mathrm{Tr}}\\\\nolimits\",\n",
       "        erf: \"\\\\mathop{\\\\mathrm{erf}}\\\\nolimits\",\n",
       "        order: \"\\\\mathop{\\\\mathcal{O}}\\\\nolimits\",\n",
       "        diag: \"\\\\mathop{\\\\mathrm{diag}}\\\\nolimits\",\n",
       "        floor: [\"\\\\left\\\\lfloor#1\\\\right\\\\rfloor\", 1],\n",
       "        ceil: [\"\\\\left\\\\lceil#1\\\\right\\\\rceil\", 1],\n",
       "\n",
       "        mylabel: [\"\\\\label{#1}\\\\tag{#1}\", 1],\n",
       "        degree: [\"^{\\\\circ}\"],\n",
       "    },\n",
       "  }\n",
       "});\n",
       "\n",
       "// Jupyter.notebook.config.update({\"load_extensions\":{\"calico-document-tools\":true}});\n",
       "// Jupyter.notebook.config.update({\"load_extensions\":{\"calico-cell-tools\":true}});\n",
       "// Jupyter.notebook.config.update({\"load_extensions\":{\"calico-spell-check\":true}});\n"
      ],
      "text/plain": [
       "<IPython.core.display.Javascript object>"
      ]
     },
     "metadata": {},
     "output_type": "display_data"
    },
    {
     "data": {
      "text/html": [
       "<script id=\"MathJax-Element-48\" type=\"math/tex\">\n",
       "\\newcommand{\\vect}[1]{\\mathbf{#1}}\n",
       "\\newcommand{\\uvect}[1]{\\hat{#1}}\n",
       "\\newcommand{\\abs}[1]{\\lvert#1\\rvert}\n",
       "\\newcommand{\\norm}[1]{\\lVert#1\\rVert}\n",
       "\\newcommand{\\I}{\\mathrm{i}}\n",
       "\\newcommand{\\ket}[1]{\\left|#1\\right\\rangle}\n",
       "\\newcommand{\\bra}[1]{\\left\\langle#1\\right|}\n",
       "\\newcommand{\\braket}[1]{\\langle#1\\rangle}\n",
       "\\newcommand{\\op}[1]{\\mathbf{#1}}\n",
       "\\newcommand{\\mat}[1]{\\mathbf{#1}}\n",
       "\\newcommand{\\d}{\\mathrm{d}}\n",
       "\\newcommand{\\pdiff}[3][]{\\frac{\\partial^{#1} #2}{\\partial {#3}^{#1}}}\n",
       "\\newcommand{\\diff}[3][]{\\frac{\\d^{#1} #2}{\\d {#3}^{#1}}}\n",
       "\\newcommand{\\ddiff}[3][]{\\frac{\\delta^{#1} #2}{\\delta {#3}^{#1}}}\n",
       "\\DeclareMathOperator{\\erf}{erf}\n",
       "\\DeclareMathOperator{\\Tr}{Tr}\n",
       "\\DeclareMathOperator{\\order}{O}\n",
       "\\DeclareMathOperator{\\diag}{diag}\n",
       "\\DeclareMathOperator{\\sgn}{sgn}\n",
       "</script>\n",
       "<i>\n",
       "<p>This cell contains some definitions for equations and some CSS for styling the notebook.  If things look a bit strange, please try the following:\n",
       "\n",
       "<ul>\n",
       "  <li>Choose \"Trust Notebook\" from the \"File\" menu.</li>\n",
       "  <li>Re-execute this cell.</li>\n",
       "  <li>Reload the notebook.</li>\n",
       "</ul>\n",
       "</p>\n",
       "</i>\n"
      ],
      "text/plain": [
       "<IPython.core.display.HTML object>"
      ]
     },
     "metadata": {},
     "output_type": "display_data"
    }
   ],
   "source": [
    "import mmf_setup;mmf_setup.nbinit()"
   ]
  },
  {
   "cell_type": "markdown",
   "metadata": {},
   "source": [
    "# 1. Uncertainties"
   ]
  },
  {
   "cell_type": "markdown",
   "metadata": {},
   "source": [
    "When dealing with quantities that have errors, it can be very useful to track the propagation of the errors through automatic differentiation.  The [uncertainties] package does this quite nicely, but there are a few cases not covered which we address here.\n",
    "\n",
    "[uncertainties]: https://pythonhosted.org/uncertainties/"
   ]
  },
  {
   "cell_type": "markdown",
   "metadata": {},
   "source": [
    "## 1.1 Implicit Relationships"
   ]
  },
  {
   "cell_type": "markdown",
   "metadata": {},
   "source": [
    "Often one needs to find the root of a function $f(x, a) = 0$ where $f$ may depend on some parameters $a$ with uncertainties.  This defines the function $x(a)$ implicitly but must be implemeted numerically."
   ]
  },
  {
   "cell_type": "code",
   "execution_count": null,
   "metadata": {
    "collapsed": false
   },
   "outputs": [],
   "source": [
    "import uncertainties\n",
    "from uncertainties import ufloat\n",
    "from scipy.optimize import brentq\n",
    "\n",
    "a = ufloat(4.0, 0.1, 'a')\n",
    "\n",
    "def f(x, a, n):\n",
    "    return x**n - a\n",
    "\n",
    "def _root(a, n=2):\n",
    "    \"\"\"Return `a**(1/n)` using a root-finding algorithm\"\"\"\n",
    "    return brentq(lambda x: f(x, a, n), 0, max(a, 1))\n",
    "\n",
    "root = uncertainties.wrap(_root)\n",
    "root(a)"
   ]
  },
  {
   "cell_type": "markdown",
   "metadata": {},
   "source": [
    "To start, one can wrap the function using `uncertainties.wrap`.  This uses finite-differences to compute the derivatives which should be okay in general since the results are only valid if the function is approximately linear over the parameter region, however, the algorithm uses a relative step-size of about $10^{-8}$ which is generally the appropriate solution, but might fail in some circumstances (for example, if a function is only linear on a much smaller interval and the uncertaintaies are small)."
   ]
  },
  {
   "cell_type": "code",
   "execution_count": null,
   "metadata": {
    "collapsed": false
   },
   "outputs": [],
   "source": [
    "%timeit _root(4.0)\n",
    "%timeit root(4.0)\n",
    "%timeit root(a)"
   ]
  },
  {
   "cell_type": "code",
   "execution_count": null,
   "metadata": {
    "collapsed": false
   },
   "outputs": [],
   "source": [
    "n = ufloat(2, 0.1, 'n')\n",
    "print root(a, n=2)\n",
    "print root(a, n=n)"
   ]
  },
  {
   "cell_type": "markdown",
   "metadata": {},
   "source": [
    "This approach has two main problems:\n",
    "\n",
    "* It can be slow.\n",
    "* The results may suffer from inaccuracies (finite-difference techniques are very poorly conditioned due the conflict between roundoff and truncation errors).\n",
    "* All of the parameters with uncertainties must be passed as arguments.  Thus, for example, the following fails:"
   ]
  },
  {
   "cell_type": "code",
   "execution_count": null,
   "metadata": {
    "collapsed": false
   },
   "outputs": [],
   "source": [
    "class Root(object):\n",
    "    def __init__(self, n=2.0):\n",
    "        self.n = n\n",
    "        \n",
    "    def _f(self, x, a):\n",
    "        return x**self.n - a\n",
    "    \n",
    "    @uncertainties.wrap\n",
    "    def __call__(self, a):\n",
    "        return brentq(lambda x: self._f(x, a), 0, max(a, 1))\n",
    "\n",
    "print Root(n=2)(a)\n",
    "#print Root(n=n)(a)  # Fails"
   ]
  },
  {
   "cell_type": "markdown",
   "metadata": {},
   "source": [
    "One solution to this problem is to explicitly compute the derivatives "
   ]
  },
  {
   "cell_type": "markdown",
   "metadata": {},
   "source": [
    "$$\n",
    "  f(x, \\vec{a}) = 0, \\qquad\n",
    "  \\pdiff{f}{x}\\d{x} + \\pdiff{f}{a_i}\\d{a_i} = 0, \\\\\n",
    "  \\pdiff{x}{a_i} =  -\\pdiff{f}{a_i}\\left(\\pdiff{f}{x}\\right)^{-1},\\\\\n",
    "  x = x_0 + \\pdiff{x}{a_i}(a_i - a_i)\n",
    "$$"
   ]
  },
  {
   "cell_type": "code",
   "execution_count": null,
   "metadata": {
    "collapsed": false
   },
   "outputs": [],
   "source": [
    "def solve(f, a, b):\n",
    "    \"\"\"Return the root of f with uncertainties.\"\"\"\n",
    "    x = brentq(lambda _x: uncertainties.nominal_value(f(_x)), a, b)\n",
    "    _x = ufloat(x, 0, tag='x')\n",
    "    zero = f(_x)\n",
    "    params = [_k for _k in zero.derivatives if _k is not _x]\n",
    "    return x - sum((_p - uncertainties.nominal_value(_p))\n",
    "                    *zero.derivatives[_p]/zero.derivatives[_x]\n",
    "                    for _p in params)\n",
    "\n",
    "root = Root(n=n)\n",
    "x = solve(lambda x: root._f(x, a), 0, 3.0)\n",
    "exact = a**(1./n)\n",
    "\n",
    "n.std_dev = 0.2  # Change the uncertainty to make sure it tracks through\n",
    "print x\n",
    "print exact\n",
    "print x-exact"
   ]
  },
  {
   "cell_type": "markdown",
   "metadata": {},
   "source": [
    "Note that there is no uncertainty in the final answer indicating that we have correctly linked the derivatives to the original variables."
   ]
  }
 ],
 "metadata": {
  "celltoolbar": "Initialisation Cell",
  "kernelspec": {
   "display_name": "Python 2",
   "language": "python",
   "name": "python2"
  },
  "language_info": {
   "codemirror_mode": {
    "name": "ipython",
    "version": 2
   },
   "file_extension": ".py",
   "mimetype": "text/x-python",
   "name": "python",
   "nbconvert_exporter": "python",
   "pygments_lexer": "ipython2",
   "version": "2.7.11"
  }
 },
 "nbformat": 4,
 "nbformat_minor": 0
}
