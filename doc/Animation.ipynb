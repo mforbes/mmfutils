{
 "cells": [
  {
   "cell_type": "markdown",
   "metadata": {},
   "source": [
    "# Animation with IPython Notebooks"
   ]
  },
  {
   "cell_type": "markdown",
   "metadata": {},
   "source": [
    "Here is a simple animation of a figure in a loop using `display` and `clear_output`.  This will flicker slightly and it seems to work best if you make sure there is another cell below the output (or the browser window resizes).  By putting the `clear_output` after the display command, once the loop is done, it will only display the final plot window.  You can also see anything that is printed in the cell (but you need to specify `wait=True` or it will immediately clear the figure).\n",
    "\n",
    "Most of the flicker comes from resizing the output cell, so if you do everything in a plot window of the same size, then the flicker is reduced.  Instead of printing, I usually use `title`."
   ]
  },
  {
   "cell_type": "code",
   "execution_count": null,
   "metadata": {},
   "outputs": [],
   "source": [
    "%%time\n",
    "%pylab inline --no-import-all\n",
    "from IPython.display import display, clear_output\n",
    "\n",
    "x = np.linspace(0,1,100)\n",
    "fig = plt.gcf()\n",
    "\n",
    "t = 0\n",
    "while t < 5:\n",
    "    plt.clf()\n",
    "    plt.plot(x, np.sin(2*np.pi*t*x))\n",
    "    plt.axis([0,1,-1,1])\n",
    "    plt.title(\"t={}\".format(t))\n",
    "    t += 0.1\n",
    "    display(fig)\n",
    "    clear_output(wait=True)    "
   ]
  },
  {
   "cell_type": "markdown",
   "metadata": {},
   "source": [
    "Now we do the same thing, but separating the data generation and plotting into two separate functions.  This division can be useful because the computation might be done by one set of code that knows nothing about plotting.  Another abstraction that could be useful is to have the computations done on another server or in another process (but one needs to be careful about synchronization which has not yet been considered here)."
   ]
  },
  {
   "cell_type": "code",
   "execution_count": null,
   "metadata": {},
   "outputs": [],
   "source": [
    "%%time\n",
    "%pylab inline --no-import-all\n",
    "from IPython.display import display, clear_output\n",
    "\n",
    "def get_data():\n",
    "    x = np.linspace(0,1,100)\n",
    "    t = 0\n",
    "    y = 0*x\n",
    "    while t < 5:\n",
    "        y = np.sin(2*np.pi*t*x)\n",
    "        yield t, x, y\n",
    "        t += 0.1\n",
    "        \n",
    "def plot_data((t, x, y), fig=None):\n",
    "    if fig is None:\n",
    "        # I can specify a custom size here if needed\n",
    "        fig = plt.gcf()\n",
    "    plt.clf()\n",
    "    l = plt.plot(x, y)\n",
    "    plt.axis([0,1,-1,1])\n",
    "    plt.title(\"t={}\".format(t))\n",
    "    display(fig)\n",
    "    clear_output(wait=True)\n",
    "    return fig\n",
    "\n",
    "for data in get_data():\n",
    "    plot_data(data)"
   ]
  },
  {
   "cell_type": "markdown",
   "metadata": {},
   "source": [
    "One slight downside of this approach is that the data computed is no longer in the global scope which may not be so desireable for interactive work.  (It is *much* better for development though).  To allow for the usual workflow, in the previous code I have included a line to update a local dictionary.  This functionality is also provided by a decorator in my [`mmfutils` package](https://bitbucket.org/mforbes/mmfutils-fork) (version 0.4.5 or higher)."
   ]
  },
  {
   "cell_type": "code",
   "execution_count": null,
   "metadata": {},
   "outputs": [],
   "source": [
    "from mmfutils.debugging import debug\n",
    "\n",
    "@debug(locals())\n",
    "def get_data():\n",
    "    x = np.linspace(0,1,100)\n",
    "    t = 0\n",
    "    y = 0*x\n",
    "    while t < 10:\n",
    "        y = np.sin(2*np.pi*t*x)\n",
    "        yield t, x, y\n",
    "        t += 0.1\n"
   ]
  },
  {
   "cell_type": "markdown",
   "metadata": {},
   "source": [
    "## Coroutines for Speed"
   ]
  },
  {
   "cell_type": "markdown",
   "metadata": {},
   "source": [
    "Another downside of this approach is that you must redraw the figure from scratch each time which is slow.  Better is to update the plot objects (i.e. calling `set_data()`) but this requires storing the data, usually in the global state (or a class) which is not optimal.\n",
    "\n",
    "One way to achieve this is to use a [coroutine](http://book.pythontips.com/en/latest/coroutines.html) to do the drawing.  These are a little tricky to use (they must be \"primed\") so we will ultimately provide a wrapper for this type of code, but the idea is that your `plot_data()` function `yields` the updated figure, and gets the results from `get_frame()` from this yield statement:"
   ]
  },
  {
   "cell_type": "code",
   "execution_count": null,
   "metadata": {},
   "outputs": [],
   "source": [
    "%%time \n",
    "%pylab inline --no-import-all\n",
    "import IPython.display\n",
    "from IPython.display import display, clear_output\n",
    "\n",
    "from mmfutils.contexts import coroutine\n",
    "\n",
    "def get_data():\n",
    "    x = np.linspace(0,1,100)\n",
    "    t = 0\n",
    "    y = 0*x\n",
    "    while t < 5:\n",
    "        y = np.sin(2*np.pi*t*x)\n",
    "        yield t, x, y\n",
    "        t += 0.1\n",
    "        \n",
    "@coroutine\n",
    "def get_plot_data(fig=None, display=IPython.display.display):\n",
    "    if fig is None:\n",
    "        # I can specify a custom size here if needed\n",
    "        fig = plt.gcf()\n",
    "    plt.clf()\n",
    "    \n",
    "    line, = plt.plot([], []) # Here we do the initial plot, set the axes,\n",
    "    plt.axis([0,1,-1,1])     # and save line and text to update later\n",
    "    title = plt.title(\"\")\n",
    "    while True:\n",
    "        t, x, y = (yield fig) # Arguments passed from the yield statement\n",
    "        line.set_data(x, y)    # Updating the data is faster than redrawing\n",
    "        title.set_text(\"t={}\".format(t))\n",
    "        if display:\n",
    "            display(fig)\n",
    "            clear_output(wait=True)\n",
    "\n",
    "# Can use the same code.\n",
    "with get_plot_data() as plot_data:\n",
    "    for data in get_data():\n",
    "        plot_data(data)"
   ]
  },
  {
   "cell_type": "markdown",
   "metadata": {},
   "source": [
    "## Movies"
   ]
  },
  {
   "cell_type": "markdown",
   "metadata": {},
   "source": [
    "Now we can use the `animation` module to make a movie.  Since our plotting function calls `display()`, the frames will be shown as they are drawn."
   ]
  },
  {
   "cell_type": "code",
   "execution_count": null,
   "metadata": {},
   "outputs": [],
   "source": [
    "%%time\n",
    "from mmfutils.plot import animation;reload(animation)\n",
    "fig = plt.gcf()\n",
    "with get_plot_data(fig=fig) as plot_data:\n",
    "    anim = animation.MyFuncAnimation(fig, plot_data, get_data())\n",
    "    anim.save('im.mp4', fps=20)"
   ]
  },
  {
   "cell_type": "code",
   "execution_count": null,
   "metadata": {},
   "outputs": [],
   "source": [
    "%%time\n",
    "from IPython.display import HTML\n",
    "from mmfutils.plot import animation;reload(animation)\n",
    "fig = plt.gcf()\n",
    "with get_plot_data(fig=fig) as plot_data:\n",
    "    anim = animation.MyFuncAnimation(fig, plot_data, get_data(), interval=10, repeat=False)\n",
    "    display(HTML(anim.to_html5_video(filename='im1.mp4')))"
   ]
  },
  {
   "cell_type": "code",
   "execution_count": null,
   "metadata": {},
   "outputs": [],
   "source": [
    "anim.save('im.m4v')"
   ]
  },
  {
   "cell_type": "markdown",
   "metadata": {},
   "source": [
    "The video is saved to a file and can be loaded dynamically as follows:"
   ]
  },
  {
   "cell_type": "code",
   "execution_count": null,
   "metadata": {},
   "outputs": [],
   "source": [
    "from IPython.display import HTML\n",
    "FILE_VIDEO_TAG = \"\"\"<video src=\"{0}\" type=\"video/mp4\" controls/>\"\"\"\n",
    "!ls -lah im.mp4\n",
    "HTML(FILE_VIDEO_TAG.format('im.mp4'))\n"
   ]
  },
  {
   "cell_type": "markdown",
   "metadata": {},
   "source": [
    "Another option is to embed the video directly as data.  The video then gets stored in the notebook itself, making the notebook very large, but allowing it to be kept as a single file:"
   ]
  },
  {
   "cell_type": "code",
   "execution_count": null,
   "metadata": {},
   "outputs": [],
   "source": [
    "from IPython.display import HTML\n",
    "EMBEDED_VIDEO_TAG = \"\"\"<video controls><source src=\"data:video/x-m4v;base64,{0}\" type=\"video/mp4\">\n",
    "</video>\"\"\"\n",
    "with open('im.mp4', 'rb') as f:\n",
    "    video = f.read()\n",
    "\n",
    "HTML(EMBEDED_VIDEO_TAG.format(video.encode(\"base64\")))"
   ]
  },
  {
   "cell_type": "markdown",
   "metadata": {},
   "source": [
    "### Video Encoding"
   ]
  },
  {
   "cell_type": "markdown",
   "metadata": {},
   "source": [
    "The default encoding seems to work, but does not have the best quality.  It also fails to render in some browsers on some machines.  Here we play with some other options."
   ]
  },
  {
   "cell_type": "code",
   "execution_count": null,
   "metadata": {},
   "outputs": [],
   "source": [
    "fig = plt.gcf()\n",
    "with get_plot_data(fig=fig, display=False) as plot_data:\n",
    "    anim = animation.MyFuncAnimation(fig, plot_data, get_data())\n",
    "    filename = 'im1.mp4' \n",
    "    anim.save(filename, fps=20, extra_args=['-vcodec', 'libx264', '-pix_fmt', 'yuv420p']);\n",
    "\n",
    "!ls -lah $filename\n",
    "with open(filename, 'rb') as f:\n",
    "    video = f.read()\n",
    "display(HTML(FILE_VIDEO_TAG.format(filename)),\n",
    "        HTML(EMBEDED_VIDEO_TAG.format(video.encode(\"base64\"))))"
   ]
  }
 ],
 "metadata": {
  "anaconda-cloud": {},
  "kernelspec": {
   "display_name": "Python [default]",
   "language": "python",
   "name": "python2"
  },
  "language_info": {
   "codemirror_mode": {
    "name": "ipython",
    "version": 2
   },
   "file_extension": ".py",
   "mimetype": "text/x-python",
   "name": "python",
   "nbconvert_exporter": "python",
   "pygments_lexer": "ipython2",
   "version": "2.7.13"
  },
  "toc": {
   "colors": {
    "hover_highlight": "#DAA520",
    "running_highlight": "#FF0000",
    "selected_highlight": "#FFD700"
   },
   "moveMenuLeft": true,
   "nav_menu": {
    "height": "66px",
    "width": "252px"
   },
   "navigate_menu": true,
   "number_sections": true,
   "sideBar": true,
   "threshold": 4,
   "toc_cell": false,
   "toc_section_display": "block",
   "toc_window_display": false
  }
 },
 "nbformat": 4,
 "nbformat_minor": 1
}
